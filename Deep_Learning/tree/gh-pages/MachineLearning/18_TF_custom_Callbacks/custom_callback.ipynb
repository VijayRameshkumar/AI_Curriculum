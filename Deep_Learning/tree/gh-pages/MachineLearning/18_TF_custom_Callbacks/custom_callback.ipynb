{
  "nbformat": 4,
  "nbformat_minor": 0,
  "metadata": {
    "colab": {
      "name": "custom_callback.ipynb",
      "provenance": [],
      "collapsed_sections": [],
      "toc_visible": true,
      "authorship_tag": "ABX9TyMmkZqqiroDmsVhQMOC0Hq0",
      "include_colab_link": true
    },
    "kernelspec": {
      "name": "python3",
      "display_name": "Python 3"
    }
  },
  "cells": [
    {
      "cell_type": "markdown",
      "metadata": {
        "id": "view-in-github",
        "colab_type": "text"
      },
      "source": [
        "<a href=\"https://colab.research.google.com/github/VijayRameshkumar/AI_Curriculum/blob/master/Deep_Learning/tree/gh-pages/MachineLearning/18_TF_custom_Callbacks/custom_callback.ipynb\" target=\"_parent\"><img src=\"https://colab.research.google.com/assets/colab-badge.svg\" alt=\"Open In Colab\"/></a>"
      ]
    },
    {
      "cell_type": "code",
      "metadata": {
        "id": "uYvLlV-20jQW"
      },
      "source": [
        "# !pip install --upgrade tensorflow==2.2.0"
      ],
      "execution_count": 1,
      "outputs": []
    },
    {
      "cell_type": "code",
      "metadata": {
        "id": "AVePEhTgAUsV"
      },
      "source": [
        "from tensorflow.keras.models import Sequential\n",
        "from tensorflow.keras.layers import Dense\n",
        "from tensorflow.keras.utils import to_categorical\n",
        "from sklearn.model_selection import train_test_split\n",
        "import numpy as np\n",
        "import tensorflow as tf\n",
        "import pandas as pd\n",
        "import matplotlib.pyplot as plt\n",
        "from sklearn import metrics\n",
        "from tensorflow.keras.optimizers import SGD\n",
        "from tensorflow.keras.callbacks import LearningRateScheduler, ReduceLROnPlateau\n",
        "import tensorflow.keras.callbacks as cbks\n",
        "from tensorflow.keras.models import load_model\n",
        "import os\n",
        "\n",
        "# Configuration options\n",
        "feature_vector_length = 2\n",
        "num_classes = 1\n",
        "%load_ext tensorboard"
      ],
      "execution_count": 2,
      "outputs": []
    },
    {
      "cell_type": "markdown",
      "metadata": {
        "id": "QZS45H2oPWTc"
      },
      "source": [
        "## 1. Feature Engineering"
      ]
    },
    {
      "cell_type": "code",
      "metadata": {
        "colab": {
          "base_uri": "https://localhost:8080/",
          "height": 299
        },
        "id": "n3KCcrqRAv4e",
        "outputId": "487bacb6-4836-48cc-83d8-977eb5c8ff4c"
      },
      "source": [
        "data = pd.read_csv(\"data.csv\")\n",
        "\n",
        "data['label'] = data['label'].astype('int32')\n",
        "\n",
        "data['2f1'] = data['f1'] * 2\n",
        "data['f1^2'] = data['f1'] ** 2\n",
        "data['sqrt_f1'] = np.sqrt(data['f1'])\n",
        "data['log_f1'] = np.log(data['f1'])\n",
        "data['exp_f1'] = np.exp(data['f1'])\n",
        "data['sin_f1'] = np.sin(data['f1'])\n",
        "data['tan_f1'] = np.tan(data['f1'])\n",
        "\n",
        "data['2f2'] = data['f2'] * 2\n",
        "data['f2^2'] = data['f2'] ** 2\n",
        "data['sqrt_f2'] = np.sqrt(data['f2'])\n",
        "data['log_f2'] = np.log(data['f2'])\n",
        "data['exp_f2'] = np.exp(data['f2'])\n",
        "data['sin_f2'] = np.sin(data['f2'])\n",
        "data['tan_f2'] = np.tan(data['f2'])\n",
        "\n",
        "data['f1f2'] = data['f1'] * data['f2']\n",
        "data['2_f1f1'] = data['2f1'] * data['2f2']\n",
        "data['sqrt_f1f2'] = data['sqrt_f1'] * data['sqrt_f2']\n",
        "data['2_log_f1f2'] = data['log_f1'] * data['log_f2']\n",
        "data['2_f1^2'] = data['f1^2'] * data['f2^2']\n",
        "data['tan_f1f2'] = data['tan_f1'] * data['tan_f2']\n",
        "data['sin_f1f2'] = data['sin_f1'] * data['sin_f2']\n",
        "data['exp_f1f2'] = data['exp_f1'] * data['exp_f2']\n",
        "\n",
        "data.fillna(0, inplace=True)\n",
        "\n",
        "data.head()"
      ],
      "execution_count": 3,
      "outputs": [
        {
          "output_type": "stream",
          "text": [
            "/usr/local/lib/python3.7/dist-packages/pandas/core/series.py:726: RuntimeWarning: invalid value encountered in sqrt\n",
            "  result = getattr(ufunc, method)(*inputs, **kwargs)\n",
            "/usr/local/lib/python3.7/dist-packages/pandas/core/series.py:726: RuntimeWarning: invalid value encountered in log\n",
            "  result = getattr(ufunc, method)(*inputs, **kwargs)\n"
          ],
          "name": "stderr"
        },
        {
          "output_type": "execute_result",
          "data": {
            "text/html": [
              "<div>\n",
              "<style scoped>\n",
              "    .dataframe tbody tr th:only-of-type {\n",
              "        vertical-align: middle;\n",
              "    }\n",
              "\n",
              "    .dataframe tbody tr th {\n",
              "        vertical-align: top;\n",
              "    }\n",
              "\n",
              "    .dataframe thead th {\n",
              "        text-align: right;\n",
              "    }\n",
              "</style>\n",
              "<table border=\"1\" class=\"dataframe\">\n",
              "  <thead>\n",
              "    <tr style=\"text-align: right;\">\n",
              "      <th></th>\n",
              "      <th>f1</th>\n",
              "      <th>f2</th>\n",
              "      <th>label</th>\n",
              "      <th>2f1</th>\n",
              "      <th>f1^2</th>\n",
              "      <th>sqrt_f1</th>\n",
              "      <th>log_f1</th>\n",
              "      <th>exp_f1</th>\n",
              "      <th>sin_f1</th>\n",
              "      <th>tan_f1</th>\n",
              "      <th>2f2</th>\n",
              "      <th>f2^2</th>\n",
              "      <th>sqrt_f2</th>\n",
              "      <th>log_f2</th>\n",
              "      <th>exp_f2</th>\n",
              "      <th>sin_f2</th>\n",
              "      <th>tan_f2</th>\n",
              "      <th>f1f2</th>\n",
              "      <th>2_f1f1</th>\n",
              "      <th>sqrt_f1f2</th>\n",
              "      <th>2_log_f1f2</th>\n",
              "      <th>2_f1^2</th>\n",
              "      <th>tan_f1f2</th>\n",
              "      <th>sin_f1f2</th>\n",
              "      <th>exp_f1f2</th>\n",
              "    </tr>\n",
              "  </thead>\n",
              "  <tbody>\n",
              "    <tr>\n",
              "      <th>0</th>\n",
              "      <td>0.450564</td>\n",
              "      <td>1.074305</td>\n",
              "      <td>0</td>\n",
              "      <td>0.901127</td>\n",
              "      <td>0.203008</td>\n",
              "      <td>0.671240</td>\n",
              "      <td>-0.797256</td>\n",
              "      <td>1.569196</td>\n",
              "      <td>0.435473</td>\n",
              "      <td>0.483750</td>\n",
              "      <td>2.148610</td>\n",
              "      <td>1.154131</td>\n",
              "      <td>1.036487</td>\n",
              "      <td>0.071674</td>\n",
              "      <td>2.927957</td>\n",
              "      <td>0.879259</td>\n",
              "      <td>1.845851</td>\n",
              "      <td>0.484043</td>\n",
              "      <td>1.936171</td>\n",
              "      <td>0.695732</td>\n",
              "      <td>-0.057142</td>\n",
              "      <td>0.234297</td>\n",
              "      <td>0.892931</td>\n",
              "      <td>0.382894</td>\n",
              "      <td>4.594539</td>\n",
              "    </tr>\n",
              "    <tr>\n",
              "      <th>1</th>\n",
              "      <td>0.085632</td>\n",
              "      <td>0.967682</td>\n",
              "      <td>0</td>\n",
              "      <td>0.171263</td>\n",
              "      <td>0.007333</td>\n",
              "      <td>0.292629</td>\n",
              "      <td>-2.457701</td>\n",
              "      <td>1.089405</td>\n",
              "      <td>0.085527</td>\n",
              "      <td>0.085841</td>\n",
              "      <td>1.935363</td>\n",
              "      <td>0.936408</td>\n",
              "      <td>0.983708</td>\n",
              "      <td>-0.032852</td>\n",
              "      <td>2.631836</td>\n",
              "      <td>0.823573</td>\n",
              "      <td>1.451971</td>\n",
              "      <td>0.082864</td>\n",
              "      <td>0.331456</td>\n",
              "      <td>0.287861</td>\n",
              "      <td>0.080740</td>\n",
              "      <td>0.006866</td>\n",
              "      <td>0.124639</td>\n",
              "      <td>0.070438</td>\n",
              "      <td>2.867135</td>\n",
              "    </tr>\n",
              "    <tr>\n",
              "      <th>2</th>\n",
              "      <td>0.117326</td>\n",
              "      <td>0.971521</td>\n",
              "      <td>1</td>\n",
              "      <td>0.234652</td>\n",
              "      <td>0.013765</td>\n",
              "      <td>0.342529</td>\n",
              "      <td>-2.142800</td>\n",
              "      <td>1.124486</td>\n",
              "      <td>0.117057</td>\n",
              "      <td>0.117867</td>\n",
              "      <td>1.943041</td>\n",
              "      <td>0.943852</td>\n",
              "      <td>0.985657</td>\n",
              "      <td>-0.028893</td>\n",
              "      <td>2.641959</td>\n",
              "      <td>0.825744</td>\n",
              "      <td>1.463970</td>\n",
              "      <td>0.113984</td>\n",
              "      <td>0.455938</td>\n",
              "      <td>0.337616</td>\n",
              "      <td>0.061911</td>\n",
              "      <td>0.012992</td>\n",
              "      <td>0.172554</td>\n",
              "      <td>0.096659</td>\n",
              "      <td>2.970845</td>\n",
              "    </tr>\n",
              "    <tr>\n",
              "      <th>3</th>\n",
              "      <td>0.982179</td>\n",
              "      <td>-0.380408</td>\n",
              "      <td>0</td>\n",
              "      <td>1.964358</td>\n",
              "      <td>0.964676</td>\n",
              "      <td>0.991050</td>\n",
              "      <td>-0.017982</td>\n",
              "      <td>2.670269</td>\n",
              "      <td>0.831709</td>\n",
              "      <td>1.498005</td>\n",
              "      <td>-0.760817</td>\n",
              "      <td>0.144711</td>\n",
              "      <td>0.000000</td>\n",
              "      <td>0.000000</td>\n",
              "      <td>0.683582</td>\n",
              "      <td>-0.371300</td>\n",
              "      <td>-0.399886</td>\n",
              "      <td>-0.373629</td>\n",
              "      <td>-1.494517</td>\n",
              "      <td>0.000000</td>\n",
              "      <td>0.000000</td>\n",
              "      <td>0.139599</td>\n",
              "      <td>-0.599032</td>\n",
              "      <td>-0.308813</td>\n",
              "      <td>1.825348</td>\n",
              "    </tr>\n",
              "    <tr>\n",
              "      <th>4</th>\n",
              "      <td>-0.720352</td>\n",
              "      <td>0.955850</td>\n",
              "      <td>0</td>\n",
              "      <td>-1.440705</td>\n",
              "      <td>0.518908</td>\n",
              "      <td>0.000000</td>\n",
              "      <td>0.000000</td>\n",
              "      <td>0.486581</td>\n",
              "      <td>-0.659650</td>\n",
              "      <td>-0.877692</td>\n",
              "      <td>1.911699</td>\n",
              "      <td>0.913648</td>\n",
              "      <td>0.977676</td>\n",
              "      <td>-0.045155</td>\n",
              "      <td>2.600879</td>\n",
              "      <td>0.816804</td>\n",
              "      <td>1.415813</td>\n",
              "      <td>-0.688548</td>\n",
              "      <td>-2.754194</td>\n",
              "      <td>0.000000</td>\n",
              "      <td>0.000000</td>\n",
              "      <td>0.474099</td>\n",
              "      <td>-1.242647</td>\n",
              "      <td>-0.538804</td>\n",
              "      <td>1.265538</td>\n",
              "    </tr>\n",
              "  </tbody>\n",
              "</table>\n",
              "</div>"
            ],
            "text/plain": [
              "         f1        f2  label       2f1  ...    2_f1^2  tan_f1f2  sin_f1f2  exp_f1f2\n",
              "0  0.450564  1.074305      0  0.901127  ...  0.234297  0.892931  0.382894  4.594539\n",
              "1  0.085632  0.967682      0  0.171263  ...  0.006866  0.124639  0.070438  2.867135\n",
              "2  0.117326  0.971521      1  0.234652  ...  0.012992  0.172554  0.096659  2.970845\n",
              "3  0.982179 -0.380408      0  1.964358  ...  0.139599 -0.599032 -0.308813  1.825348\n",
              "4 -0.720352  0.955850      0 -1.440705  ...  0.474099 -1.242647 -0.538804  1.265538\n",
              "\n",
              "[5 rows x 25 columns]"
            ]
          },
          "metadata": {
            "tags": []
          },
          "execution_count": 3
        }
      ]
    },
    {
      "cell_type": "markdown",
      "metadata": {
        "id": "U4LjA_ngPeST"
      },
      "source": [
        "## 2. Data Splitting"
      ]
    },
    {
      "cell_type": "code",
      "metadata": {
        "colab": {
          "base_uri": "https://localhost:8080/"
        },
        "id": "5Qf_fShyBJGa",
        "outputId": "2914aa68-2b44-4b4d-ec43-b758c8cd98ec"
      },
      "source": [
        "target = data['label']\n",
        "\n",
        "data = data.drop(['label'], axis=1)\n",
        "\n",
        "X_train, X_test, Y_train, Y_test = train_test_split(data, target, test_size=0.20, random_state=3, shuffle=True, stratify=target)\n",
        "\n",
        "print(X_train.shape, X_test.shape, Y_train.shape, Y_test.shape)"
      ],
      "execution_count": 4,
      "outputs": [
        {
          "output_type": "stream",
          "text": [
            "(16000, 24) (4000, 24) (16000,) (4000,)\n"
          ],
          "name": "stdout"
        }
      ]
    },
    {
      "cell_type": "code",
      "metadata": {
        "colab": {
          "base_uri": "https://localhost:8080/",
          "height": 311
        },
        "id": "YWtCyA524Qtc",
        "outputId": "a1d3f4b9-2a12-47bc-b40b-c079dc576a10"
      },
      "source": [
        "import seaborn as sns\n",
        "\n",
        "sns.heatmap(data.corr());"
      ],
      "execution_count": 5,
      "outputs": [
        {
          "output_type": "display_data",
          "data": {
            "image/png": "[encoded data removed]",
            "text/plain": [
              "<Figure size 432x288 with 2 Axes>"
            ]
          },
          "metadata": {
            "tags": [],
            "needs_background": "light"
          }
        }
      ]
    },
    {
      "cell_type": "markdown",
      "metadata": {
        "id": "SPA0l5VqPsC5"
      },
      "source": [
        "## 3. Callbacks"
      ]
    },
    {
      "cell_type": "code",
      "metadata": {
        "id": "V9VX-4sPUGz2"
      },
      "source": [
        "from keras import backend as K\n",
        "\n",
        "def micro_f1(y_true, y_pred):\n",
        "  def recall(y_true, y_pred):\n",
        "    true_positives = K.sum(K.round(K.clip(y_true * y_pred, 0, 1)))\n",
        "    possible_positives = K.sum(K.round(K.clip(y_true, 0, 1)))\n",
        "    recall = true_positives / (possible_positives + K.epsilon())\n",
        "    return recall\n",
        "\n",
        "  def precision(y_true, y_pred):\n",
        "    true_positives = K.sum(K.round(K.clip(y_true * y_pred, 0, 1)))\n",
        "    predicted_positives = K.sum(K.round(K.clip(y_pred, 0, 1)))\n",
        "    precision = true_positives / (predicted_positives + K.epsilon())\n",
        "    return precision\n",
        "  precision = precision(y_true, y_pred)\n",
        "  recall = recall(y_true, y_pred)\n",
        "  #2*pi*row / (pi + row): micro-f1\n",
        "  micro_f1 = (2*precision*recall)/(precision+recall+K.epsilon()) \n",
        "  return micro_f1\n",
        "\n",
        "def AUC_custom(y, pred):\n",
        "  '''\n",
        "  Calculates AUC for various Thresholds\n",
        "  '''\n",
        "  m = tf.keras.metrics.AUC(num_thresholds=3)\n",
        "  m.update_state(y, pred)\n",
        "  auc = m.result().numpy()\n",
        "  m.reset_states()\n",
        "  return auc\n",
        "\n",
        "def get_model(act_fn, initializer, metrics=None):\n",
        "  # Set the input shape\n",
        "  input_shape = (X_train.shape[1],)\n",
        "  print(f'Feature shape: {input_shape}')\n",
        "  # Create the model\n",
        "  model = Sequential()\n",
        "  model.add(Dense(50, input_shape=input_shape, activation=act_fn, kernel_initializer=initializer))\n",
        "  model.add(Dense(25, activation=act_fn))\n",
        "  model.add(Dense(10, activation=act_fn))\n",
        "  model.add(Dense(5, activation=act_fn))\n",
        "  model.add(Dense(3, activation=act_fn))\n",
        "  model.add(Dense(num_classes, activation='sigmoid'))\n",
        "  sgd = SGD(lr=0.01, momentum=0.9)\n",
        "  # Configure the model and start training\n",
        "  if metrics == None:\n",
        "    model.compile(loss='binary_crossentropy', optimizer=sgd, metrics=[micro_f1, AUC_custom], run_eagerly=True)\n",
        "  elif metrics == 'AUC_custom':\n",
        "    model.compile(loss='binary_crossentropy', optimizer=sgd, metrics=[AUC_custom], run_eagerly=True)\n",
        "  elif metrics == 'micro_f1':\n",
        "    model.compile(loss='binary_crossentropy', optimizer=sgd, metrics=[micro_f1], run_eagerly=True)\n",
        "  else:\n",
        "    model.compile(loss='binary_crossentropy', optimizer=sgd, metrics=[metrics], run_eagerly=True)\n",
        "  return model"
      ],
      "execution_count": 6,
      "outputs": []
    },
    {
      "cell_type": "code",
      "metadata": {
        "id": "Y2RR9IERoAre"
      },
      "source": [
        "class CustomCallback(tf.keras.callbacks.Callback):\n",
        "    def __init__(self):\n",
        "        self.val_acc = dict()\n",
        "        self.lr = dict() \n",
        "        self.val_loss = dict()\n",
        "\n",
        "    def on_train_begin(self, logs=None):\n",
        "        keys = list(logs.keys())\n",
        "\n",
        "    def on_train_end(self, logs=None):\n",
        "        keys = list(logs.keys())\n",
        "        title=\"Learning Rate Schedule\"\n",
        "        epochs = list(self.lr.keys())\n",
        "        lrs = list(self.lr.values())\n",
        "\n",
        "        # the learning rate schedule\n",
        "        plt.style.use(\"ggplot\")\n",
        "        plt.figure()\n",
        "        plt.plot(epochs, lrs, color='green', marker='o', linestyle='dashed')\n",
        "        plt.title(title)\n",
        "        plt.xlabel(\"Epoch #\")\n",
        "        plt.ylabel(\"Learning Rate\")\n",
        "        plt.savefig(\"lrng_rate.png\")\n",
        "        print(\"Stop training; got log keys: {}\".format(keys))\n",
        "\n",
        "    def on_epoch_begin(self, epoch, logs=None):\n",
        "        keys = list(logs.keys())\n",
        "\n",
        "    def on_epoch_end(self, epoch, logs=None):\n",
        "        keys = list(logs.keys())\n",
        "        print(\"\\nEnd epoch {} of training; got log keys: {}\".format(epoch, logs))\n",
        "\n",
        "        try : \n",
        "          if logs['val_micro_f1']:\n",
        "            self.val_acc[str(epoch)] = logs['val_micro_f1']\n",
        "            val_loss = logs['val_loss']\n",
        "            self.val_loss[epoch] = val_loss\n",
        "          elif logs['AUC_custom']:\n",
        "            self.val_acc[str(epoch)] = logs['val_AUC_custom']\n",
        "            val_loss = logs['val_loss']\n",
        "            self.val_loss[epoch] = val_loss\n",
        "\n",
        "        except:\n",
        "          pass\n",
        "\n",
        "        if epoch>1:\n",
        "          #learning rate reduce if prev_val_acc > next_val_acc epoch drop 10%\n",
        "          if self.val_acc[str(epoch-1)] > self.val_acc[str(epoch)]:\n",
        "            lr = float(tf.keras.backend.get_value(self.model.optimizer.learning_rate))\n",
        "            scheduled_lr = lr * 0.1\n",
        "            tf.keras.backend.set_value(self.model.optimizer.lr, scheduled_lr)\n",
        "\n",
        "            print(f\"\\n custom learning rate by val_accracy if prev_val_acc > next_val_acc epoch drop 10% : {lr}\\n\")\n",
        "            self.lr[str(epoch+1)]= lr\n",
        "          \n",
        "          #save model if prev_val_acc < next_val_acc BEST_MODEL = TRUE\n",
        "          elif self.val_acc[str(epoch-1)] < self.val_acc[str(epoch)]:\n",
        "            try:\n",
        "              os.makedirs((\"/content/best_model\"))\n",
        "            except:\n",
        "              pass\n",
        "\n",
        "            name = '/content/best_model/weights%08d.h5' % epoch\n",
        "\n",
        "            # Record the best weights if current results is better.\n",
        "            model = self.model.get_weights()\n",
        "            print(\"\\n\", \"#\"*100, \"\\n\", \"Best Weights Saved : \", \"\\n\", \"#\"*100)\n",
        "            # model = load_model(model)\n",
        "            self.model.save(name)\n",
        "\n",
        "            # self.model.savefig(\"/content/best_model/best_model.png\")\n",
        "            with open(\"/content/best_model/best_weights.txt\", \"w+\") as f:\n",
        "              f.write(str(model))\n",
        "\n",
        "        #learning rate for every 3 epoch drop 5%\n",
        "          elif ((epoch+1) % 3) == 0:\n",
        "            lr = float(tf.keras.backend.get_value(self.model.optimizer.learning_rate))\n",
        "            schedule = float(lr * 0.05)\n",
        "            tf.keras.backend.set_value(self.model.optimizer.lr, schedule)\n",
        "            print(f\"\\n custom learning rate by every 3rd epoch {lr}\\n\")\n",
        "            self.lr[str(epoch+1)]= lr\n",
        "\n",
        "        # early stopping if val_acc is not improved for last 2 epochs\n",
        "        elif epoch >= 2:\n",
        "          val_loss = type(logs['val_loss'])\n",
        "          if round(self.val_acc[str(epoch-1)] - self.val_acc[str(epoch-2)], 4) == 0:\n",
        "            print(\"\\n\", \"#\"*100, \"\\n\", \"Early Stopping Executed: \", \"\\n\", \"#\"*100)\n",
        "            self.model.stop_training = True\n",
        "\n",
        "        \n",
        "          #if val loss is nan, stop_training\n",
        "          elif val_loss != 'int' or val_loss != 'float':\n",
        "            print(\"\\n\", \"#\"*100, \"\\n\", \"val loss is nan - Train Termination Execcuted: \", \"\\n\", \"#\"*100)\n",
        "            self.model.stop_training = True\n",
        "\n",
        "    def on_test_begin(self, logs=None):\n",
        "        keys = list(logs.keys())\n",
        "\n",
        "    def on_test_end(self, logs=None):\n",
        "        keys = list(logs.keys())\n",
        "        print(\"\\nStop testing; got log keys: {}\".format(logs))\n",
        "\n",
        "    def on_predict_begin(self, logs=None):\n",
        "        keys = list(logs.keys())\n",
        "\n",
        "    def on_predict_end(self, logs=None):\n",
        "        keys = list(logs.keys())\n",
        "\n",
        "    def on_train_batch_begin(self, batch, logs=None):\n",
        "        keys = list(logs.keys())\n",
        "\n",
        "    def on_train_batch_end(self, batch, logs=None):\n",
        "        keys = list(logs.keys())\n",
        "\n",
        "    def on_test_batch_begin(self, batch, logs=None):\n",
        "        keys = list(logs.keys())\n",
        "\n",
        "    def on_test_batch_end(self, batch, logs=None):\n",
        "        keys = list(logs.keys())\n",
        "\n",
        "    def on_predict_batch_begin(self, batch, logs=None):\n",
        "        keys = list(logs.keys())\n",
        "\n",
        "    def on_predict_batch_end(self, batch, logs=None):\n",
        "        keys = list(logs.keys())"
      ],
      "execution_count": 7,
      "outputs": []
    },
    {
      "cell_type": "markdown",
      "metadata": {
        "id": "xI3BTGLkUHhA"
      },
      "source": [
        "## 4. Model"
      ]
    },
    {
      "cell_type": "markdown",
      "metadata": {
        "id": "YqrYoNhN0CBb"
      },
      "source": [
        "### Model 1"
      ]
    },
    {
      "cell_type": "code",
      "metadata": {
        "colab": {
          "base_uri": "https://localhost:8080/"
        },
        "id": "z-TCIrEiXScA",
        "outputId": "875d6416-6245-4476-d3f3-ab7e6fcd4ad8"
      },
      "source": [
        "import datetime\n",
        "import os\n",
        "\n",
        "log_dir=os.path.join(\"logs1\", datetime.datetime.now().strftime(\"%Y%m%d-%H%M%S\"))\n",
        "tensorboard_callback = tf.keras.callbacks.TensorBoard(log_dir=log_dir,histogram_freq=1, write_graph=True, write_grads=True)"
      ],
      "execution_count": 8,
      "outputs": [
        {
          "output_type": "stream",
          "text": [
            "WARNING:tensorflow:`write_grads` will be ignored in TensorFlow 2.0 for the `TensorBoard` Callback.\n"
          ],
          "name": "stdout"
        }
      ]
    },
    {
      "cell_type": "code",
      "metadata": {
        "id": "eiu9TIUqYJQI"
      },
      "source": [
        "%tensorboard --logdir logs1"
      ],
      "execution_count": null,
      "outputs": []
    },
    {
      "cell_type": "code",
      "metadata": {
        "colab": {
          "base_uri": "https://localhost:8080/",
          "height": 1000
        },
        "id": "uCk3G3WWHvVp",
        "outputId": "b72e304f-5569-42bc-a893-550a8cb67cc3"
      },
      "source": [
        "model1 = get_model('tanh', 'RandomUniform')\n",
        "\n",
        "history_tanh = model1.fit(X_train, Y_train.ravel(), epochs=20, batch_size=250, \n",
        "                          verbose=1, validation_split=0.2,\n",
        "                          callbacks=[CustomCallback(), tensorboard_callback])\n",
        "\n",
        "# Test the model after training\n",
        "test_results = model1.evaluate(X_test, Y_test, verbose=1)\n",
        "\n",
        "print(f'\\nTest results - Loss: {test_results[0]} - micro_f1: {test_results[1]}% - AUC_custom: {test_results[2]}%')"
      ],
      "execution_count": 10,
      "outputs": [
        {
          "output_type": "stream",
          "text": [
            "Feature shape: (24,)\n",
            "Epoch 1/20\n",
            "51/52 [============================>.] - ETA: 0s - loss: 0.6686 - micro_f1: 0.5306 - AUC_custom: 0.5741\n",
            "Stop testing; got log keys: {'loss': 0.6109927296638489, 'micro_f1': 0.6912460923194885, 'AUC_custom': 0.6652476787567139}\n",
            "52/52 [==============================] - 3s 43ms/step - loss: 0.6679 - micro_f1: 0.5329 - AUC_custom: 0.5756 - val_loss: 0.6110 - val_micro_f1: 0.6912 - val_AUC_custom: 0.6652\n",
            "\n",
            "End epoch 0 of training; got log keys: {'loss': 0.6494277119636536, 'micro_f1': 0.594025731086731, 'AUC_custom': 0.6146937012672424, 'val_loss': 0.6109927296638489, 'val_micro_f1': 0.6912460923194885, 'val_AUC_custom': 0.6652476787567139}\n",
            "Epoch 2/20\n",
            "51/52 [============================>.] - ETA: 0s - loss: 0.6130 - micro_f1: 0.6665 - AUC_custom: 0.6601\n",
            "Stop testing; got log keys: {'loss': 0.6081868410110474, 'micro_f1': 0.6309722065925598, 'AUC_custom': 0.6671809554100037}\n",
            "52/52 [==============================] - 2s 35ms/step - loss: 0.6129 - micro_f1: 0.6663 - AUC_custom: 0.6602 - val_loss: 0.6082 - val_micro_f1: 0.6310 - val_AUC_custom: 0.6672\n",
            "\n",
            "End epoch 1 of training; got log keys: {'loss': 0.6123856902122498, 'micro_f1': 0.6623615026473999, 'AUC_custom': 0.6628185510635376, 'val_loss': 0.6081868410110474, 'val_micro_f1': 0.6309722065925598, 'val_AUC_custom': 0.6671809554100037}\n",
            "Epoch 3/20\n",
            "51/52 [============================>.] - ETA: 0s - loss: 0.6019 - micro_f1: 0.6703 - AUC_custom: 0.6762\n",
            "Stop testing; got log keys: {'loss': 0.6127737164497375, 'micro_f1': 0.6805925369262695, 'AUC_custom': 0.6643909811973572}\n",
            "52/52 [==============================] - 2s 35ms/step - loss: 0.6022 - micro_f1: 0.6700 - AUC_custom: 0.6758 - val_loss: 0.6128 - val_micro_f1: 0.6806 - val_AUC_custom: 0.6644\n",
            "\n",
            "End epoch 2 of training; got log keys: {'loss': 0.6100121140480042, 'micro_f1': 0.6618505120277405, 'AUC_custom': 0.6659373641014099, 'val_loss': 0.6127737164497375, 'val_micro_f1': 0.6805925369262695, 'val_AUC_custom': 0.6643909811973572}\n",
            "\n",
            " #################################################################################################### \n",
            " Best Weights Saved :  \n",
            " ####################################################################################################\n",
            "Epoch 4/20\n",
            "51/52 [============================>.] - ETA: 0s - loss: 0.6171 - micro_f1: 0.6531 - AUC_custom: 0.6545\n",
            "Stop testing; got log keys: {'loss': 0.6030310988426208, 'micro_f1': 0.6806179285049438, 'AUC_custom': 0.6742365956306458}\n",
            "52/52 [==============================] - 2s 34ms/step - loss: 0.6169 - micro_f1: 0.6534 - AUC_custom: 0.6549 - val_loss: 0.6030 - val_micro_f1: 0.6806 - val_AUC_custom: 0.6742\n",
            "\n",
            "End epoch 3 of training; got log keys: {'loss': 0.6117054224014282, 'micro_f1': 0.6608969569206238, 'AUC_custom': 0.6638485193252563, 'val_loss': 0.6030310988426208, 'val_micro_f1': 0.6806179285049438, 'val_AUC_custom': 0.6742365956306458}\n",
            "\n",
            " #################################################################################################### \n",
            " Best Weights Saved :  \n",
            " ####################################################################################################\n",
            "Epoch 5/20\n",
            "51/52 [============================>.] - ETA: 0s - loss: 0.6042 - micro_f1: 0.6646 - AUC_custom: 0.6707\n",
            "Stop testing; got log keys: {'loss': 0.6019378900527954, 'micro_f1': 0.6627119779586792, 'AUC_custom': 0.675347089767456}\n",
            "52/52 [==============================] - 2s 35ms/step - loss: 0.6044 - micro_f1: 0.6644 - AUC_custom: 0.6706 - val_loss: 0.6019 - val_micro_f1: 0.6627 - val_AUC_custom: 0.6753\n",
            "\n",
            "End epoch 4 of training; got log keys: {'loss': 0.6092942953109741, 'micro_f1': 0.6606492400169373, 'AUC_custom': 0.6680517792701721, 'val_loss': 0.6019378900527954, 'val_micro_f1': 0.6627119779586792, 'val_AUC_custom': 0.675347089767456}\n",
            "\n",
            " custom learning rate by val_accracy if prev_val_acc > next_val_acc epoch drop 10% : 0.009999999776482582\n",
            "\n",
            "Epoch 6/20\n",
            "51/52 [============================>.] - ETA: 0s - loss: 0.6051 - micro_f1: 0.6755 - AUC_custom: 0.6689\n",
            "Stop testing; got log keys: {'loss': 0.5999197363853455, 'micro_f1': 0.6697855591773987, 'AUC_custom': 0.6773466467857361}\n",
            "52/52 [==============================] - 2s 36ms/step - loss: 0.6052 - micro_f1: 0.6754 - AUC_custom: 0.6689 - val_loss: 0.5999 - val_micro_f1: 0.6698 - val_AUC_custom: 0.6773\n",
            "\n",
            "End epoch 5 of training; got log keys: {'loss': 0.6062353253364563, 'micro_f1': 0.6704943776130676, 'AUC_custom': 0.669445276260376, 'val_loss': 0.5999197363853455, 'val_micro_f1': 0.6697855591773987, 'val_AUC_custom': 0.6773466467857361}\n",
            "\n",
            " #################################################################################################### \n",
            " Best Weights Saved :  \n",
            " ####################################################################################################\n",
            "Epoch 7/20\n",
            "51/52 [============================>.] - ETA: 0s - loss: 0.6044 - micro_f1: 0.6523 - AUC_custom: 0.6679\n",
            "Stop testing; got log keys: {'loss': 0.5996763110160828, 'micro_f1': 0.6762229204177856, 'AUC_custom': 0.6781748533248901}\n",
            "52/52 [==============================] - 2s 37ms/step - loss: 0.6043 - micro_f1: 0.6527 - AUC_custom: 0.6680 - val_loss: 0.5997 - val_micro_f1: 0.6762 - val_AUC_custom: 0.6782\n",
            "\n",
            "End epoch 6 of training; got log keys: {'loss': 0.6039059162139893, 'micro_f1': 0.663114607334137, 'AUC_custom': 0.6702534556388855, 'val_loss': 0.5996763110160828, 'val_micro_f1': 0.6762229204177856, 'val_AUC_custom': 0.6781748533248901}\n",
            "\n",
            " #################################################################################################### \n",
            " Best Weights Saved :  \n",
            " ####################################################################################################\n",
            "Epoch 8/20\n",
            "51/52 [============================>.] - ETA: 0s - loss: 0.6029 - micro_f1: 0.6645 - AUC_custom: 0.6690\n",
            "Stop testing; got log keys: {'loss': 0.6004116535186768, 'micro_f1': 0.6771243214607239, 'AUC_custom': 0.6753364205360413}\n",
            "52/52 [==============================] - 2s 37ms/step - loss: 0.6029 - micro_f1: 0.6644 - AUC_custom: 0.6689 - val_loss: 0.6004 - val_micro_f1: 0.6771 - val_AUC_custom: 0.6753\n",
            "\n",
            "End epoch 7 of training; got log keys: {'loss': 0.6038228273391724, 'micro_f1': 0.6628953218460083, 'AUC_custom': 0.6680004596710205, 'val_loss': 0.6004116535186768, 'val_micro_f1': 0.6771243214607239, 'val_AUC_custom': 0.6753364205360413}\n",
            "\n",
            " #################################################################################################### \n",
            " Best Weights Saved :  \n",
            " ####################################################################################################\n",
            "Epoch 9/20\n",
            "51/52 [============================>.] - ETA: 0s - loss: 0.6022 - micro_f1: 0.6730 - AUC_custom: 0.6688\n",
            "Stop testing; got log keys: {'loss': 0.600759744644165, 'micro_f1': 0.6610193252563477, 'AUC_custom': 0.6730294823646545}\n",
            "52/52 [==============================] - 2s 34ms/step - loss: 0.6022 - micro_f1: 0.6729 - AUC_custom: 0.6690 - val_loss: 0.6008 - val_micro_f1: 0.6610 - val_AUC_custom: 0.6730\n",
            "\n",
            "End epoch 8 of training; got log keys: {'loss': 0.6031248569488525, 'micro_f1': 0.6678295135498047, 'AUC_custom': 0.6728180646896362, 'val_loss': 0.600759744644165, 'val_micro_f1': 0.6610193252563477, 'val_AUC_custom': 0.6730294823646545}\n",
            "\n",
            " custom learning rate by val_accracy if prev_val_acc > next_val_acc epoch drop 10% : 0.0009999999310821295\n",
            "\n",
            "Epoch 10/20\n",
            "52/52 [==============================] - ETA: 0s - loss: 0.6039 - micro_f1: 0.6413 - AUC_custom: 0.6685\n",
            "Stop testing; got log keys: {'loss': 0.6016553044319153, 'micro_f1': 0.6529916524887085, 'AUC_custom': 0.673525869846344}\n",
            "52/52 [==============================] - 2s 35ms/step - loss: 0.6040 - micro_f1: 0.6413 - AUC_custom: 0.6685 - val_loss: 0.6017 - val_micro_f1: 0.6530 - val_AUC_custom: 0.6735\n",
            "\n",
            "End epoch 9 of training; got log keys: {'loss': 0.6061033010482788, 'micro_f1': 0.6408013701438904, 'AUC_custom': 0.6684262752532959, 'val_loss': 0.6016553044319153, 'val_micro_f1': 0.6529916524887085, 'val_AUC_custom': 0.673525869846344}\n",
            "\n",
            " custom learning rate by val_accracy if prev_val_acc > next_val_acc epoch drop 10% : 9.99999901978299e-05\n",
            "\n",
            "Epoch 11/20\n",
            "51/52 [============================>.] - ETA: 0s - loss: 0.6067 - micro_f1: 0.6565 - AUC_custom: 0.6692\n",
            "Stop testing; got log keys: {'loss': 0.6010836958885193, 'micro_f1': 0.6552473306655884, 'AUC_custom': 0.6722850799560547}\n",
            "52/52 [==============================] - 2s 35ms/step - loss: 0.6066 - micro_f1: 0.6564 - AUC_custom: 0.6692 - val_loss: 0.6011 - val_micro_f1: 0.6552 - val_AUC_custom: 0.6723\n",
            "\n",
            "End epoch 10 of training; got log keys: {'loss': 0.6040370464324951, 'micro_f1': 0.652995765209198, 'AUC_custom': 0.6704135537147522, 'val_loss': 0.6010836958885193, 'val_micro_f1': 0.6552473306655884, 'val_AUC_custom': 0.6722850799560547}\n",
            "\n",
            " #################################################################################################### \n",
            " Best Weights Saved :  \n",
            " ####################################################################################################\n",
            "Epoch 12/20\n",
            "51/52 [============================>.] - ETA: 0s - loss: 0.6077 - micro_f1: 0.6563 - AUC_custom: 0.6698\n",
            "Stop testing; got log keys: {'loss': 0.6009162068367004, 'micro_f1': 0.6576880812644958, 'AUC_custom': 0.6732402443885803}\n",
            "52/52 [==============================] - 2s 36ms/step - loss: 0.6075 - micro_f1: 0.6562 - AUC_custom: 0.6698 - val_loss: 0.6009 - val_micro_f1: 0.6577 - val_AUC_custom: 0.6732\n",
            "\n",
            "End epoch 11 of training; got log keys: {'loss': 0.6037217378616333, 'micro_f1': 0.6541787385940552, 'AUC_custom': 0.6697609424591064, 'val_loss': 0.6009162068367004, 'val_micro_f1': 0.6576880812644958, 'val_AUC_custom': 0.6732402443885803}\n",
            "\n",
            " #################################################################################################### \n",
            " Best Weights Saved :  \n",
            " ####################################################################################################\n",
            "Epoch 13/20\n",
            "51/52 [============================>.] - ETA: 0s - loss: 0.6042 - micro_f1: 0.6523 - AUC_custom: 0.6667\n",
            "Stop testing; got log keys: {'loss': 0.600782573223114, 'micro_f1': 0.65840083360672, 'AUC_custom': 0.6730992794036865}\n",
            "52/52 [==============================] - 2s 36ms/step - loss: 0.6042 - micro_f1: 0.6524 - AUC_custom: 0.6668 - val_loss: 0.6008 - val_micro_f1: 0.6584 - val_AUC_custom: 0.6731\n",
            "\n",
            "End epoch 12 of training; got log keys: {'loss': 0.6035681366920471, 'micro_f1': 0.6559010744094849, 'AUC_custom': 0.670719563961029, 'val_loss': 0.600782573223114, 'val_micro_f1': 0.65840083360672, 'val_AUC_custom': 0.6730992794036865}\n",
            "\n",
            " #################################################################################################### \n",
            " Best Weights Saved :  \n",
            " ####################################################################################################\n",
            "Epoch 14/20\n",
            "51/52 [============================>.] - ETA: 0s - loss: 0.6040 - micro_f1: 0.6527 - AUC_custom: 0.6684\n",
            "Stop testing; got log keys: {'loss': 0.6006658673286438, 'micro_f1': 0.6605675220489502, 'AUC_custom': 0.6741710305213928}\n",
            "52/52 [==============================] - 2s 36ms/step - loss: 0.6040 - micro_f1: 0.6529 - AUC_custom: 0.6686 - val_loss: 0.6007 - val_micro_f1: 0.6606 - val_AUC_custom: 0.6742\n",
            "\n",
            "End epoch 13 of training; got log keys: {'loss': 0.6034353971481323, 'micro_f1': 0.657585859298706, 'AUC_custom': 0.671848714351654, 'val_loss': 0.6006658673286438, 'val_micro_f1': 0.6605675220489502, 'val_AUC_custom': 0.6741710305213928}\n",
            "\n",
            " #################################################################################################### \n",
            " Best Weights Saved :  \n",
            " ####################################################################################################\n",
            "Epoch 15/20\n",
            "51/52 [============================>.] - ETA: 0s - loss: 0.6073 - micro_f1: 0.6512 - AUC_custom: 0.6655\n",
            "Stop testing; got log keys: {'loss': 0.6005547046661377, 'micro_f1': 0.6613291501998901, 'AUC_custom': 0.6743790507316589}\n",
            "52/52 [==============================] - 2s 36ms/step - loss: 0.6072 - micro_f1: 0.6515 - AUC_custom: 0.6658 - val_loss: 0.6006 - val_micro_f1: 0.6613 - val_AUC_custom: 0.6744\n",
            "\n",
            "End epoch 14 of training; got log keys: {'loss': 0.6033236980438232, 'micro_f1': 0.6593081951141357, 'AUC_custom': 0.6722404956817627, 'val_loss': 0.6005547046661377, 'val_micro_f1': 0.6613291501998901, 'val_AUC_custom': 0.6743790507316589}\n",
            "\n",
            " #################################################################################################### \n",
            " Best Weights Saved :  \n",
            " ####################################################################################################\n",
            "Epoch 16/20\n",
            "51/52 [============================>.] - ETA: 0s - loss: 0.6069 - micro_f1: 0.6547 - AUC_custom: 0.6657\n",
            "Stop testing; got log keys: {'loss': 0.600490927696228, 'micro_f1': 0.6613336205482483, 'AUC_custom': 0.6738001108169556}\n",
            "52/52 [==============================] - 2s 35ms/step - loss: 0.6067 - micro_f1: 0.6547 - AUC_custom: 0.6657 - val_loss: 0.6005 - val_micro_f1: 0.6613 - val_AUC_custom: 0.6738\n",
            "\n",
            "End epoch 15 of training; got log keys: {'loss': 0.6032357215881348, 'micro_f1': 0.6556681394577026, 'AUC_custom': 0.6678308248519897, 'val_loss': 0.600490927696228, 'val_micro_f1': 0.6613336205482483, 'val_AUC_custom': 0.6738001108169556}\n",
            "\n",
            " #################################################################################################### \n",
            " Best Weights Saved :  \n",
            " ####################################################################################################\n",
            "Epoch 17/20\n",
            "51/52 [============================>.] - ETA: 0s - loss: 0.6002 - micro_f1: 0.6618 - AUC_custom: 0.6743\n",
            "Stop testing; got log keys: {'loss': 0.6004195809364319, 'micro_f1': 0.6613550186157227, 'AUC_custom': 0.6734643578529358}\n",
            "52/52 [==============================] - 2s 35ms/step - loss: 0.6003 - micro_f1: 0.6617 - AUC_custom: 0.6741 - val_loss: 0.6004 - val_micro_f1: 0.6614 - val_AUC_custom: 0.6735\n",
            "\n",
            "End epoch 16 of training; got log keys: {'loss': 0.6031656861305237, 'micro_f1': 0.6576713919639587, 'AUC_custom': 0.6689802408218384, 'val_loss': 0.6004195809364319, 'val_micro_f1': 0.6613550186157227, 'val_AUC_custom': 0.6734643578529358}\n",
            "\n",
            " #################################################################################################### \n",
            " Best Weights Saved :  \n",
            " ####################################################################################################\n",
            "Epoch 18/20\n",
            "51/52 [============================>.] - ETA: 0s - loss: 0.6018 - micro_f1: 0.6577 - AUC_custom: 0.6717\n",
            "Stop testing; got log keys: {'loss': 0.6003566980361938, 'micro_f1': 0.6630893349647522, 'AUC_custom': 0.6743689179420471}\n",
            "52/52 [==============================] - 2s 36ms/step - loss: 0.6018 - micro_f1: 0.6577 - AUC_custom: 0.6716 - val_loss: 0.6004 - val_micro_f1: 0.6631 - val_AUC_custom: 0.6744\n",
            "\n",
            "End epoch 17 of training; got log keys: {'loss': 0.6031028032302856, 'micro_f1': 0.6574507355690002, 'AUC_custom': 0.6693171262741089, 'val_loss': 0.6003566980361938, 'val_micro_f1': 0.6630893349647522, 'val_AUC_custom': 0.6743689179420471}\n",
            "\n",
            " #################################################################################################### \n",
            " Best Weights Saved :  \n",
            " ####################################################################################################\n",
            "Epoch 19/20\n",
            "51/52 [============================>.] - ETA: 0s - loss: 0.6056 - micro_f1: 0.6629 - AUC_custom: 0.6707\n",
            "Stop testing; got log keys: {'loss': 0.6003021001815796, 'micro_f1': 0.6640443205833435, 'AUC_custom': 0.6748754978179932}\n",
            "52/52 [==============================] - 2s 36ms/step - loss: 0.6055 - micro_f1: 0.6627 - AUC_custom: 0.6707 - val_loss: 0.6003 - val_micro_f1: 0.6640 - val_AUC_custom: 0.6749\n",
            "\n",
            "End epoch 18 of training; got log keys: {'loss': 0.6030523777008057, 'micro_f1': 0.6601465940475464, 'AUC_custom': 0.6709151864051819, 'val_loss': 0.6003021001815796, 'val_micro_f1': 0.6640443205833435, 'val_AUC_custom': 0.6748754978179932}\n",
            "\n",
            " #################################################################################################### \n",
            " Best Weights Saved :  \n",
            " ####################################################################################################\n",
            "Epoch 20/20\n",
            "51/52 [============================>.] - ETA: 0s - loss: 0.6042 - micro_f1: 0.6634 - AUC_custom: 0.6712\n",
            "Stop testing; got log keys: {'loss': 0.6002703309059143, 'micro_f1': 0.6655133962631226, 'AUC_custom': 0.6757849454879761}\n",
            "52/52 [==============================] - 2s 36ms/step - loss: 0.6042 - micro_f1: 0.6633 - AUC_custom: 0.6712 - val_loss: 0.6003 - val_micro_f1: 0.6655 - val_AUC_custom: 0.6758\n",
            "\n",
            "End epoch 19 of training; got log keys: {'loss': 0.6030077338218689, 'micro_f1': 0.661295473575592, 'AUC_custom': 0.6705694794654846, 'val_loss': 0.6002703309059143, 'val_micro_f1': 0.6655133962631226, 'val_AUC_custom': 0.6757849454879761}\n",
            "\n",
            " #################################################################################################### \n",
            " Best Weights Saved :  \n",
            " ####################################################################################################\n",
            "Stop training; got log keys: ['loss', 'micro_f1', 'AUC_custom', 'val_loss', 'val_micro_f1', 'val_AUC_custom']\n",
            "125/125 [==============================] - 3s 23ms/step - loss: 0.6004 - micro_f1: 0.6604 - AUC_custom: 0.6748\n",
            "\n",
            "Test results - Loss: 0.6004143357276917 - micro_f1: 0.660398542881012% - AUC_custom: 0.6748018860816956%\n"
          ],
          "name": "stdout"
        },
        {
          "output_type": "display_data",
          "data": {
            "image/png": "[encoded data removed]",
            "text/plain": [
              "<Figure size 432x288 with 1 Axes>"
            ]
          },
          "metadata": {
            "tags": []
          }
        }
      ]
    },
    {
      "cell_type": "code",
      "metadata": {
        "colab": {
          "base_uri": "https://localhost:8080/"
        },
        "id": "SBZKAAun1lA0",
        "outputId": "2093aea7-5c6f-469a-fed3-36977c63fb02"
      },
      "source": [
        "from sklearn.metrics import classification_report, accuracy_score\n",
        "\n",
        "ypred = model1.predict(X_test)\n",
        "\n",
        "ypred = [1 if i>=0.5 else 0 for i in ypred.ravel()]\n",
        "\n",
        "print(\"accuracy_score is \", accuracy_score(Y_test, ypred), \"\\n\")\n",
        "\n",
        "print(\"AUC_score is \", test_results[1], \"\\n\")\n",
        "\n",
        "print(classification_report(Y_test, ypred))"
      ],
      "execution_count": 11,
      "outputs": [
        {
          "output_type": "stream",
          "text": [
            "accuracy_score is  0.67475 \n",
            "\n",
            "AUC_score is  0.660398542881012 \n",
            "\n",
            "              precision    recall  f1-score   support\n",
            "\n",
            "           0       0.67      0.70      0.68      2000\n",
            "           1       0.68      0.65      0.67      2000\n",
            "\n",
            "    accuracy                           0.67      4000\n",
            "   macro avg       0.68      0.67      0.67      4000\n",
            "weighted avg       0.68      0.67      0.67      4000\n",
            "\n"
          ],
          "name": "stdout"
        }
      ]
    },
    {
      "cell_type": "markdown",
      "metadata": {
        "id": "c1d7wBBY0FcG"
      },
      "source": [
        "### Model 2"
      ]
    },
    {
      "cell_type": "code",
      "metadata": {
        "id": "5SWTNxeEkato"
      },
      "source": [
        "import datetime\n",
        "import os\n",
        "\n",
        "log_dir=os.path.join(\"logs2\", datetime.datetime.now().strftime(\"%Y%m%d-%H%M%S\"))\n",
        "tensorboard_callback_2 = tf.keras.callbacks.TensorBoard(log_dir=log_dir,histogram_freq=1, write_graph=True, write_grads=True)\n",
        "\n",
        "%tensorboard --logdir logs2"
      ],
      "execution_count": null,
      "outputs": []
    },
    {
      "cell_type": "code",
      "metadata": {
        "colab": {
          "base_uri": "https://localhost:8080/",
          "height": 1000
        },
        "id": "ZWQ_lUg7CmCY",
        "outputId": "a3aea14c-07de-48fa-da14-1b16d294eb15"
      },
      "source": [
        "model2 = get_model('relu', 'RandomUniform')\n",
        "\n",
        "history_relu_1 = model2.fit(X_train, Y_train.ravel(), epochs=20, batch_size=250, \n",
        "                         verbose=1, validation_split=0.2, \n",
        "                         callbacks=[CustomCallback(), tensorboard_callback_2])\n",
        "\n",
        "# Test the model after training\n",
        "test_results = model2.evaluate(X_test, Y_test, verbose=1)\n",
        "\n",
        "print(f'\\nTest results - Loss: {test_results[0]} - micro_f1: {test_results[1]}%')"
      ],
      "execution_count": 13,
      "outputs": [
        {
          "output_type": "stream",
          "text": [
            "Feature shape: (24,)\n",
            "Epoch 1/20\n",
            "52/52 [==============================] - ETA: 0s - loss: 0.6925 - micro_f1: 0.3975 - AUC_custom: 0.5246\n",
            "Stop testing; got log keys: {'loss': 0.6892591714859009, 'micro_f1': 0.2571571469306946, 'AUC_custom': 0.5269703269004822}\n",
            "52/52 [==============================] - 2s 41ms/step - loss: 0.6925 - micro_f1: 0.3985 - AUC_custom: 0.5248 - val_loss: 0.6893 - val_micro_f1: 0.2572 - val_AUC_custom: 0.5270\n",
            "\n",
            "End epoch 0 of training; got log keys: {'loss': 0.6917986869812012, 'micro_f1': 0.4513503611087799, 'AUC_custom': 0.5345473289489746, 'val_loss': 0.6892591714859009, 'val_micro_f1': 0.2571571469306946, 'val_AUC_custom': 0.5269703269004822}\n",
            "Epoch 2/20\n",
            "51/52 [============================>.] - ETA: 0s - loss: 0.6882 - micro_f1: 0.4400 - AUC_custom: 0.5541\n",
            "Stop testing; got log keys: {'loss': 0.6804736852645874, 'micro_f1': 0.5373701453208923, 'AUC_custom': 0.6073186993598938}\n",
            "52/52 [==============================] - 2s 37ms/step - loss: 0.6882 - micro_f1: 0.4429 - AUC_custom: 0.5548 - val_loss: 0.6805 - val_micro_f1: 0.5374 - val_AUC_custom: 0.6073\n",
            "\n",
            "End epoch 1 of training; got log keys: {'loss': 0.6864805817604065, 'micro_f1': 0.5162942409515381, 'AUC_custom': 0.5731321573257446, 'val_loss': 0.6804736852645874, 'val_micro_f1': 0.5373701453208923, 'val_AUC_custom': 0.6073186993598938}\n",
            "Epoch 3/20\n",
            "52/52 [==============================] - ETA: 0s - loss: 0.6785 - micro_f1: 0.5893 - AUC_custom: 0.6196\n",
            "Stop testing; got log keys: {'loss': 0.6657207012176514, 'micro_f1': 0.5576215386390686, 'AUC_custom': 0.6339199542999268}\n",
            "52/52 [==============================] - 2s 36ms/step - loss: 0.6784 - micro_f1: 0.5894 - AUC_custom: 0.6196 - val_loss: 0.6657 - val_micro_f1: 0.5576 - val_AUC_custom: 0.6339\n",
            "\n",
            "End epoch 2 of training; got log keys: {'loss': 0.675944447517395, 'micro_f1': 0.5941264629364014, 'AUC_custom': 0.622627317905426, 'val_loss': 0.6657207012176514, 'val_micro_f1': 0.5576215386390686, 'val_AUC_custom': 0.6339199542999268}\n",
            "\n",
            " #################################################################################################### \n",
            " Best Weights Saved :  \n",
            " ####################################################################################################\n",
            "Epoch 4/20\n",
            "51/52 [============================>.] - ETA: 0s - loss: 0.6633 - micro_f1: 0.5770 - AUC_custom: 0.6414\n",
            "Stop testing; got log keys: {'loss': 0.6455657482147217, 'micro_f1': 0.6005879640579224, 'AUC_custom': 0.649891197681427}\n",
            "52/52 [==============================] - 2s 37ms/step - loss: 0.6632 - micro_f1: 0.5777 - AUC_custom: 0.6414 - val_loss: 0.6456 - val_micro_f1: 0.6006 - val_AUC_custom: 0.6499\n",
            "\n",
            "End epoch 3 of training; got log keys: {'loss': 0.6585895419120789, 'micro_f1': 0.5974633693695068, 'AUC_custom': 0.6427827477455139, 'val_loss': 0.6455657482147217, 'val_micro_f1': 0.6005879640579224, 'val_AUC_custom': 0.649891197681427}\n",
            "\n",
            " #################################################################################################### \n",
            " Best Weights Saved :  \n",
            " ####################################################################################################\n",
            "Epoch 5/20\n",
            "52/52 [==============================] - ETA: 0s - loss: 0.6422 - micro_f1: 0.6346 - AUC_custom: 0.6574\n",
            "Stop testing; got log keys: {'loss': 0.6237731575965881, 'micro_f1': 0.6589838266372681, 'AUC_custom': 0.6677471399307251}\n",
            "52/52 [==============================] - 2s 38ms/step - loss: 0.6421 - micro_f1: 0.6346 - AUC_custom: 0.6575 - val_loss: 0.6238 - val_micro_f1: 0.6590 - val_AUC_custom: 0.6677\n",
            "\n",
            "End epoch 4 of training; got log keys: {'loss': 0.6381539702415466, 'micro_f1': 0.6381019949913025, 'AUC_custom': 0.6608256101608276, 'val_loss': 0.6237731575965881, 'val_micro_f1': 0.6589838266372681, 'val_AUC_custom': 0.6677471399307251}\n",
            "\n",
            " #################################################################################################### \n",
            " Best Weights Saved :  \n",
            " ####################################################################################################\n",
            "Epoch 6/20\n",
            "51/52 [============================>.] - ETA: 0s - loss: 0.6268 - micro_f1: 0.6626 - AUC_custom: 0.6661\n",
            "Stop testing; got log keys: {'loss': 0.6131641864776611, 'micro_f1': 0.6542883515357971, 'AUC_custom': 0.6716180443763733}\n",
            "52/52 [==============================] - 2s 36ms/step - loss: 0.6267 - micro_f1: 0.6627 - AUC_custom: 0.6661 - val_loss: 0.6132 - val_micro_f1: 0.6543 - val_AUC_custom: 0.6716\n",
            "\n",
            "End epoch 5 of training; got log keys: {'loss': 0.6230301856994629, 'micro_f1': 0.6641476154327393, 'AUC_custom': 0.6679884791374207, 'val_loss': 0.6131641864776611, 'val_micro_f1': 0.6542883515357971, 'val_AUC_custom': 0.6716180443763733}\n",
            "\n",
            " custom learning rate by val_accracy if prev_val_acc > next_val_acc epoch drop 10% : 0.009999999776482582\n",
            "\n",
            "Epoch 7/20\n",
            "51/52 [============================>.] - ETA: 0s - loss: 0.6182 - micro_f1: 0.6534 - AUC_custom: 0.6660\n",
            "Stop testing; got log keys: {'loss': 0.610352635383606, 'micro_f1': 0.6849551796913147, 'AUC_custom': 0.6776562333106995}\n",
            "52/52 [==============================] - 2s 37ms/step - loss: 0.6182 - micro_f1: 0.6539 - AUC_custom: 0.6661 - val_loss: 0.6104 - val_micro_f1: 0.6850 - val_AUC_custom: 0.6777\n",
            "\n",
            "End epoch 6 of training; got log keys: {'loss': 0.6164281964302063, 'micro_f1': 0.6661471128463745, 'AUC_custom': 0.6680187582969666, 'val_loss': 0.610352635383606, 'val_micro_f1': 0.6849551796913147, 'val_AUC_custom': 0.6776562333106995}\n",
            "\n",
            " #################################################################################################### \n",
            " Best Weights Saved :  \n",
            " ####################################################################################################\n",
            "Epoch 8/20\n",
            "51/52 [============================>.] - ETA: 0s - loss: 0.6145 - micro_f1: 0.6778 - AUC_custom: 0.6708\n",
            "Stop testing; got log keys: {'loss': 0.6089965105056763, 'micro_f1': 0.6741715669631958, 'AUC_custom': 0.6750458478927612}\n",
            "52/52 [==============================] - 2s 37ms/step - loss: 0.6145 - micro_f1: 0.6774 - AUC_custom: 0.6707 - val_loss: 0.6090 - val_micro_f1: 0.6742 - val_AUC_custom: 0.6750\n",
            "\n",
            "End epoch 7 of training; got log keys: {'loss': 0.6143063902854919, 'micro_f1': 0.6690380573272705, 'AUC_custom': 0.6681803464889526, 'val_loss': 0.6089965105056763, 'val_micro_f1': 0.6741715669631958, 'val_AUC_custom': 0.6750458478927612}\n",
            "\n",
            " custom learning rate by val_accracy if prev_val_acc > next_val_acc epoch drop 10% : 0.0009999999310821295\n",
            "\n",
            "Epoch 9/20\n",
            "51/52 [============================>.] - ETA: 0s - loss: 0.6147 - micro_f1: 0.6703 - AUC_custom: 0.6761\n",
            "Stop testing; got log keys: {'loss': 0.6092172861099243, 'micro_f1': 0.6664763689041138, 'AUC_custom': 0.6722694039344788}\n",
            "52/52 [==============================] - 2s 35ms/step - loss: 0.6147 - micro_f1: 0.6702 - AUC_custom: 0.6759 - val_loss: 0.6092 - val_micro_f1: 0.6665 - val_AUC_custom: 0.6723\n",
            "\n",
            "End epoch 8 of training; got log keys: {'loss': 0.6138873100280762, 'micro_f1': 0.6663802862167358, 'AUC_custom': 0.6703848242759705, 'val_loss': 0.6092172861099243, 'val_micro_f1': 0.6664763689041138, 'val_AUC_custom': 0.6722694039344788}\n",
            "\n",
            " custom learning rate by val_accracy if prev_val_acc > next_val_acc epoch drop 10% : 9.99999901978299e-05\n",
            "\n",
            "Epoch 10/20\n",
            "51/52 [============================>.] - ETA: 0s - loss: 0.6155 - micro_f1: 0.6659 - AUC_custom: 0.6687\n",
            "Stop testing; got log keys: {'loss': 0.6092362403869629, 'micro_f1': 0.666991651058197, 'AUC_custom': 0.6708479523658752}\n",
            "52/52 [==============================] - 2s 35ms/step - loss: 0.6154 - micro_f1: 0.6660 - AUC_custom: 0.6687 - val_loss: 0.6092 - val_micro_f1: 0.6670 - val_AUC_custom: 0.6708\n",
            "\n",
            "End epoch 9 of training; got log keys: {'loss': 0.6137387752532959, 'micro_f1': 0.6677914261817932, 'AUC_custom': 0.6711330413818359, 'val_loss': 0.6092362403869629, 'val_micro_f1': 0.666991651058197, 'val_AUC_custom': 0.6708479523658752}\n",
            "\n",
            " #################################################################################################### \n",
            " Best Weights Saved :  \n",
            " ####################################################################################################\n",
            "Epoch 11/20\n",
            "51/52 [============================>.] - ETA: 0s - loss: 0.6127 - micro_f1: 0.6710 - AUC_custom: 0.6748\n",
            "Stop testing; got log keys: {'loss': 0.6092151403427124, 'micro_f1': 0.6674332022666931, 'AUC_custom': 0.6705827713012695}\n",
            "52/52 [==============================] - 2s 37ms/step - loss: 0.6127 - micro_f1: 0.6709 - AUC_custom: 0.6747 - val_loss: 0.6092 - val_micro_f1: 0.6674 - val_AUC_custom: 0.6706\n",
            "\n",
            "End epoch 10 of training; got log keys: {'loss': 0.6137087345123291, 'micro_f1': 0.6686766743659973, 'AUC_custom': 0.6726933121681213, 'val_loss': 0.6092151403427124, 'val_micro_f1': 0.6674332022666931, 'val_AUC_custom': 0.6705827713012695}\n",
            "\n",
            " #################################################################################################### \n",
            " Best Weights Saved :  \n",
            " ####################################################################################################\n",
            "Epoch 12/20\n",
            "51/52 [============================>.] - ETA: 0s - loss: 0.6173 - micro_f1: 0.6615 - AUC_custom: 0.6655\n",
            "Stop testing; got log keys: {'loss': 0.6091989278793335, 'micro_f1': 0.6692591309547424, 'AUC_custom': 0.6717585325241089}\n",
            "52/52 [==============================] - 2s 37ms/step - loss: 0.6172 - micro_f1: 0.6617 - AUC_custom: 0.6657 - val_loss: 0.6092 - val_micro_f1: 0.6693 - val_AUC_custom: 0.6718\n",
            "\n",
            "End epoch 11 of training; got log keys: {'loss': 0.6136934161186218, 'micro_f1': 0.6683177351951599, 'AUC_custom': 0.6712989807128906, 'val_loss': 0.6091989278793335, 'val_micro_f1': 0.6692591309547424, 'val_AUC_custom': 0.6717585325241089}\n",
            "\n",
            " #################################################################################################### \n",
            " Best Weights Saved :  \n",
            " ####################################################################################################\n",
            "Epoch 13/20\n",
            "51/52 [============================>.] - ETA: 0s - loss: 0.6108 - micro_f1: 0.6753 - AUC_custom: 0.6759\n",
            "Stop testing; got log keys: {'loss': 0.6091840267181396, 'micro_f1': 0.669661283493042, 'AUC_custom': 0.6720520853996277}\n",
            "52/52 [==============================] - 2s 36ms/step - loss: 0.6109 - micro_f1: 0.6751 - AUC_custom: 0.6758 - val_loss: 0.6092 - val_micro_f1: 0.6697 - val_AUC_custom: 0.6721\n",
            "\n",
            "End epoch 12 of training; got log keys: {'loss': 0.6136797070503235, 'micro_f1': 0.6686248779296875, 'AUC_custom': 0.6718693375587463, 'val_loss': 0.6091840267181396, 'val_micro_f1': 0.669661283493042, 'val_AUC_custom': 0.6720520853996277}\n",
            "\n",
            " #################################################################################################### \n",
            " Best Weights Saved :  \n",
            " ####################################################################################################\n",
            "Epoch 14/20\n",
            "51/52 [============================>.] - ETA: 0s - loss: 0.6115 - micro_f1: 0.6722 - AUC_custom: 0.6766\n",
            "Stop testing; got log keys: {'loss': 0.6091655492782593, 'micro_f1': 0.669661283493042, 'AUC_custom': 0.6720520853996277}\n",
            "52/52 [==============================] - 2s 37ms/step - loss: 0.6116 - micro_f1: 0.6722 - AUC_custom: 0.6765 - val_loss: 0.6092 - val_micro_f1: 0.6697 - val_AUC_custom: 0.6721\n",
            "\n",
            "End epoch 13 of training; got log keys: {'loss': 0.6136681437492371, 'micro_f1': 0.6705583333969116, 'AUC_custom': 0.672407865524292, 'val_loss': 0.6091655492782593, 'val_micro_f1': 0.669661283493042, 'val_AUC_custom': 0.6720520853996277}\n",
            "Epoch 15/20\n",
            "51/52 [============================>.] - ETA: 0s - loss: 0.6151 - micro_f1: 0.6656 - AUC_custom: 0.6696\n",
            "Stop testing; got log keys: {'loss': 0.6091524362564087, 'micro_f1': 0.670249342918396, 'AUC_custom': 0.6723305583000183}\n",
            "52/52 [==============================] - 2s 37ms/step - loss: 0.6151 - micro_f1: 0.6657 - AUC_custom: 0.6697 - val_loss: 0.6092 - val_micro_f1: 0.6702 - val_AUC_custom: 0.6723\n",
            "\n",
            "End epoch 14 of training; got log keys: {'loss': 0.6136549115180969, 'micro_f1': 0.6691886186599731, 'AUC_custom': 0.6714903116226196, 'val_loss': 0.6091524362564087, 'val_micro_f1': 0.670249342918396, 'val_AUC_custom': 0.6723305583000183}\n",
            "\n",
            " #################################################################################################### \n",
            " Best Weights Saved :  \n",
            " ####################################################################################################\n",
            "Epoch 16/20\n",
            "51/52 [============================>.] - ETA: 0s - loss: 0.6148 - micro_f1: 0.6634 - AUC_custom: 0.6681\n",
            "Stop testing; got log keys: {'loss': 0.6091362237930298, 'micro_f1': 0.6700098514556885, 'AUC_custom': 0.6717881560325623}\n",
            "52/52 [==============================] - 2s 37ms/step - loss: 0.6147 - micro_f1: 0.6637 - AUC_custom: 0.6683 - val_loss: 0.6091 - val_micro_f1: 0.6700 - val_AUC_custom: 0.6718\n",
            "\n",
            "End epoch 15 of training; got log keys: {'loss': 0.6136419773101807, 'micro_f1': 0.6711336970329285, 'AUC_custom': 0.6727478504180908, 'val_loss': 0.6091362237930298, 'val_micro_f1': 0.6700098514556885, 'val_AUC_custom': 0.6717881560325623}\n",
            "\n",
            " custom learning rate by val_accracy if prev_val_acc > next_val_acc epoch drop 10% : 9.99999883788405e-06\n",
            "\n",
            "Epoch 17/20\n",
            "51/52 [============================>.] - ETA: 0s - loss: 0.6149 - micro_f1: 0.6704 - AUC_custom: 0.6723\n",
            "Stop testing; got log keys: {'loss': 0.6091331243515015, 'micro_f1': 0.6703997850418091, 'AUC_custom': 0.6720688939094543}\n",
            "52/52 [==============================] - 2s 35ms/step - loss: 0.6149 - micro_f1: 0.6703 - AUC_custom: 0.6722 - val_loss: 0.6091 - val_micro_f1: 0.6704 - val_AUC_custom: 0.6721\n",
            "\n",
            "End epoch 16 of training; got log keys: {'loss': 0.6136305928230286, 'micro_f1': 0.6679741144180298, 'AUC_custom': 0.6698852777481079, 'val_loss': 0.6091331243515015, 'val_micro_f1': 0.6703997850418091, 'val_AUC_custom': 0.6720688939094543}\n",
            "\n",
            " #################################################################################################### \n",
            " Best Weights Saved :  \n",
            " ####################################################################################################\n",
            "Epoch 18/20\n",
            "51/52 [============================>.] - ETA: 0s - loss: 0.6148 - micro_f1: 0.6677 - AUC_custom: 0.6703\n",
            "Stop testing; got log keys: {'loss': 0.6091316938400269, 'micro_f1': 0.6703997850418091, 'AUC_custom': 0.6720688939094543}\n",
            "52/52 [==============================] - 2s 37ms/step - loss: 0.6148 - micro_f1: 0.6678 - AUC_custom: 0.6704 - val_loss: 0.6091 - val_micro_f1: 0.6704 - val_AUC_custom: 0.6721\n",
            "\n",
            "End epoch 17 of training; got log keys: {'loss': 0.6136286854743958, 'micro_f1': 0.6703579425811768, 'AUC_custom': 0.6716858148574829, 'val_loss': 0.6091316938400269, 'val_micro_f1': 0.6703997850418091, 'val_AUC_custom': 0.6720688939094543}\n",
            "\n",
            " custom learning rate by every 3rd epoch 9.99999883788405e-07\n",
            "\n",
            "Epoch 19/20\n",
            "51/52 [============================>.] - ETA: 0s - loss: 0.6103 - micro_f1: 0.6739 - AUC_custom: 0.6746\n",
            "Stop testing; got log keys: {'loss': 0.6091312170028687, 'micro_f1': 0.6703997850418091, 'AUC_custom': 0.6720688939094543}\n",
            "52/52 [==============================] - 2s 37ms/step - loss: 0.6104 - micro_f1: 0.6738 - AUC_custom: 0.6745 - val_loss: 0.6091 - val_micro_f1: 0.6704 - val_AUC_custom: 0.6721\n",
            "\n",
            "End epoch 18 of training; got log keys: {'loss': 0.6136276125907898, 'micro_f1': 0.6704573035240173, 'AUC_custom': 0.6723307371139526, 'val_loss': 0.6091312170028687, 'val_micro_f1': 0.6703997850418091, 'val_AUC_custom': 0.6720688939094543}\n",
            "Epoch 20/20\n",
            "51/52 [============================>.] - ETA: 0s - loss: 0.6120 - micro_f1: 0.6714 - AUC_custom: 0.6726\n",
            "Stop testing; got log keys: {'loss': 0.6091310977935791, 'micro_f1': 0.6703997850418091, 'AUC_custom': 0.6720688939094543}\n",
            "52/52 [==============================] - 2s 37ms/step - loss: 0.6121 - micro_f1: 0.6714 - AUC_custom: 0.6725 - val_loss: 0.6091 - val_micro_f1: 0.6704 - val_AUC_custom: 0.6721\n",
            "\n",
            "End epoch 19 of training; got log keys: {'loss': 0.6136273741722107, 'micro_f1': 0.6697647571563721, 'AUC_custom': 0.6712204813957214, 'val_loss': 0.6091310977935791, 'val_micro_f1': 0.6703997850418091, 'val_AUC_custom': 0.6720688939094543}\n",
            "Stop training; got log keys: ['loss', 'micro_f1', 'AUC_custom', 'val_loss', 'val_micro_f1', 'val_AUC_custom']\n",
            "125/125 [==============================] - 3s 23ms/step - loss: 0.6106 - micro_f1: 0.6675 - AUC_custom: 0.6741\n",
            "\n",
            "Test results - Loss: 0.6106488108634949 - micro_f1: 0.6675434112548828%\n"
          ],
          "name": "stdout"
        },
        {
          "output_type": "display_data",
          "data": {
            "image/png": "[encoded data removed]",
            "text/plain": [
              "<Figure size 432x288 with 1 Axes>"
            ]
          },
          "metadata": {
            "tags": []
          }
        }
      ]
    },
    {
      "cell_type": "code",
      "metadata": {
        "colab": {
          "base_uri": "https://localhost:8080/"
        },
        "id": "Q6RSlQlK1g3L",
        "outputId": "9fae58b9-de02-4f3f-9176-58e50cbcf7e2"
      },
      "source": [
        "from sklearn.metrics import classification_report, accuracy_score\n",
        "\n",
        "ypred = model2.predict(X_test)\n",
        "\n",
        "ypred = [1 if i>=0.5 else 0 for i in ypred.ravel()]\n",
        "\n",
        "print(\"accuracy_score is \", accuracy_score(Y_test, ypred), \"\\n\")\n",
        "\n",
        "print(\"AUC_score is \", test_results[1], \"\\n\")\n",
        "\n",
        "print(classification_report(Y_test, ypred))"
      ],
      "execution_count": 14,
      "outputs": [
        {
          "output_type": "stream",
          "text": [
            "accuracy_score is  0.67425 \n",
            "\n",
            "AUC_score is  0.6675434112548828 \n",
            "\n",
            "              precision    recall  f1-score   support\n",
            "\n",
            "           0       0.67      0.68      0.68      2000\n",
            "           1       0.68      0.67      0.67      2000\n",
            "\n",
            "    accuracy                           0.67      4000\n",
            "   macro avg       0.67      0.67      0.67      4000\n",
            "weighted avg       0.67      0.67      0.67      4000\n",
            "\n"
          ],
          "name": "stdout"
        }
      ]
    },
    {
      "cell_type": "markdown",
      "metadata": {
        "id": "tQjYzckq0JX3"
      },
      "source": [
        "### Model 3"
      ]
    },
    {
      "cell_type": "code",
      "metadata": {
        "id": "XSQ720Tbksul"
      },
      "source": [
        "import datetime\n",
        "import os\n",
        "\n",
        "log_dir=os.path.join(\"logs3\", datetime.datetime.now().strftime(\"%Y%m%d-%H%M%S\"))\n",
        "tensorboard_callback_3 = tf.keras.callbacks.TensorBoard(log_dir=log_dir,histogram_freq=1, write_graph=True, write_grads=True)\n",
        "\n",
        "%tensorboard --logdir logs3"
      ],
      "execution_count": null,
      "outputs": []
    },
    {
      "cell_type": "code",
      "metadata": {
        "colab": {
          "base_uri": "https://localhost:8080/",
          "height": 1000
        },
        "id": "M_d4TEfCEKsn",
        "outputId": "6d66753c-f85a-4e3d-814a-6e5ff453a1f3"
      },
      "source": [
        "model3 = get_model('relu', 'he_uniform')\n",
        "\n",
        "history_relu_2 = model3.fit(X_train, Y_train.ravel(), epochs=20, batch_size=250, \n",
        "                         verbose=1, validation_split=0.2, \n",
        "                         callbacks=[CustomCallback(), tensorboard_callback_3])\n",
        "\n",
        "# Test the model after training\n",
        "test_results = model3.evaluate(X_test, Y_test, verbose=1)\n",
        "\n",
        "print(f'\\nTest results - Loss: {test_results[0]} - micro_f1: {test_results[1]}% - custom_AUC: {test_results[2]}%')"
      ],
      "execution_count": 16,
      "outputs": [
        {
          "output_type": "stream",
          "text": [
            "Feature shape: (24,)\n",
            "Epoch 1/20\n",
            "51/52 [============================>.] - ETA: 0s - loss: 0.6838 - micro_f1: 0.5068 - AUC_custom: 0.5531\n",
            "Stop testing; got log keys: {'loss': 0.6649491190910339, 'micro_f1': 0.5792978405952454, 'AUC_custom': 0.6070863008499146}\n",
            "52/52 [==============================] - 2s 37ms/step - loss: 0.6836 - micro_f1: 0.5083 - AUC_custom: 0.5543 - val_loss: 0.6649 - val_micro_f1: 0.5793 - val_AUC_custom: 0.6071\n",
            "\n",
            "End epoch 0 of training; got log keys: {'loss': 0.6790311336517334, 'micro_f1': 0.5454391837120056, 'AUC_custom': 0.5846741795539856, 'val_loss': 0.6649491190910339, 'val_micro_f1': 0.5792978405952454, 'val_AUC_custom': 0.6070863008499146}\n",
            "Epoch 2/20\n",
            "51/52 [============================>.] - ETA: 0s - loss: 0.6583 - micro_f1: 0.5953 - AUC_custom: 0.6243\n",
            "Stop testing; got log keys: {'loss': 0.6397657990455627, 'micro_f1': 0.636598527431488, 'AUC_custom': 0.6442986726760864}\n",
            "52/52 [==============================] - 2s 36ms/step - loss: 0.6581 - micro_f1: 0.5961 - AUC_custom: 0.6248 - val_loss: 0.6398 - val_micro_f1: 0.6366 - val_AUC_custom: 0.6443\n",
            "\n",
            "End epoch 1 of training; got log keys: {'loss': 0.6522784233093262, 'micro_f1': 0.6159235239028931, 'AUC_custom': 0.6361656785011292, 'val_loss': 0.6397657990455627, 'val_micro_f1': 0.636598527431488, 'val_AUC_custom': 0.6442986726760864}\n",
            "Epoch 3/20\n",
            "51/52 [============================>.] - ETA: 0s - loss: 0.6330 - micro_f1: 0.6397 - AUC_custom: 0.6493\n",
            "Stop testing; got log keys: {'loss': 0.6188545823097229, 'micro_f1': 0.6621406078338623, 'AUC_custom': 0.6630088090896606}\n",
            "52/52 [==============================] - 2s 36ms/step - loss: 0.6329 - micro_f1: 0.6402 - AUC_custom: 0.6495 - val_loss: 0.6189 - val_micro_f1: 0.6621 - val_AUC_custom: 0.6630\n",
            "\n",
            "End epoch 2 of training; got log keys: {'loss': 0.63092041015625, 'micro_f1': 0.6527190804481506, 'AUC_custom': 0.6547667384147644, 'val_loss': 0.6188545823097229, 'val_micro_f1': 0.6621406078338623, 'val_AUC_custom': 0.6630088090896606}\n",
            "\n",
            " #################################################################################################### \n",
            " Best Weights Saved :  \n",
            " ####################################################################################################\n",
            "Epoch 4/20\n",
            "51/52 [============================>.] - ETA: 0s - loss: 0.6194 - micro_f1: 0.6609 - AUC_custom: 0.6645\n",
            "Stop testing; got log keys: {'loss': 0.6142989993095398, 'micro_f1': 0.6853522062301636, 'AUC_custom': 0.6647273302078247}\n",
            "52/52 [==============================] - 2s 36ms/step - loss: 0.6193 - micro_f1: 0.6611 - AUC_custom: 0.6645 - val_loss: 0.6143 - val_micro_f1: 0.6854 - val_AUC_custom: 0.6647\n",
            "\n",
            "End epoch 3 of training; got log keys: {'loss': 0.6164517402648926, 'micro_f1': 0.6661373376846313, 'AUC_custom': 0.6654421091079712, 'val_loss': 0.6142989993095398, 'val_micro_f1': 0.6853522062301636, 'val_AUC_custom': 0.6647273302078247}\n",
            "\n",
            " #################################################################################################### \n",
            " Best Weights Saved :  \n",
            " ####################################################################################################\n",
            "Epoch 5/20\n",
            "51/52 [============================>.] - ETA: 0s - loss: 0.6082 - micro_f1: 0.6881 - AUC_custom: 0.6756\n",
            "Stop testing; got log keys: {'loss': 0.6083703637123108, 'micro_f1': 0.6855911016464233, 'AUC_custom': 0.6725010275840759}\n",
            "52/52 [==============================] - 2s 35ms/step - loss: 0.6083 - micro_f1: 0.6876 - AUC_custom: 0.6754 - val_loss: 0.6084 - val_micro_f1: 0.6856 - val_AUC_custom: 0.6725\n",
            "\n",
            "End epoch 4 of training; got log keys: {'loss': 0.612301230430603, 'micro_f1': 0.6733485460281372, 'AUC_custom': 0.6693832874298096, 'val_loss': 0.6083703637123108, 'val_micro_f1': 0.6855911016464233, 'val_AUC_custom': 0.6725010275840759}\n",
            "\n",
            " #################################################################################################### \n",
            " Best Weights Saved :  \n",
            " ####################################################################################################\n",
            "Epoch 6/20\n",
            "51/52 [============================>.] - ETA: 0s - loss: 0.6049 - micro_f1: 0.6722 - AUC_custom: 0.6727\n",
            "Stop testing; got log keys: {'loss': 0.6037933826446533, 'micro_f1': 0.6804751753807068, 'AUC_custom': 0.6707066893577576}\n",
            "52/52 [==============================] - 2s 37ms/step - loss: 0.6051 - micro_f1: 0.6722 - AUC_custom: 0.6726 - val_loss: 0.6038 - val_micro_f1: 0.6805 - val_AUC_custom: 0.6707\n",
            "\n",
            "End epoch 5 of training; got log keys: {'loss': 0.6087729334831238, 'micro_f1': 0.6719644069671631, 'AUC_custom': 0.6708443760871887, 'val_loss': 0.6037933826446533, 'val_micro_f1': 0.6804751753807068, 'val_AUC_custom': 0.6707066893577576}\n",
            "\n",
            " custom learning rate by val_accracy if prev_val_acc > next_val_acc epoch drop 10% : 0.009999999776482582\n",
            "\n",
            "Epoch 7/20\n",
            "51/52 [============================>.] - ETA: 0s - loss: 0.6119 - micro_f1: 0.6597 - AUC_custom: 0.6641\n",
            "Stop testing; got log keys: {'loss': 0.602228581905365, 'micro_f1': 0.6739858984947205, 'AUC_custom': 0.6734472513198853}\n",
            "52/52 [==============================] - 2s 38ms/step - loss: 0.6117 - micro_f1: 0.6599 - AUC_custom: 0.6643 - val_loss: 0.6022 - val_micro_f1: 0.6740 - val_AUC_custom: 0.6734\n",
            "\n",
            "End epoch 6 of training; got log keys: {'loss': 0.6075223684310913, 'micro_f1': 0.6640491485595703, 'AUC_custom': 0.6690816283226013, 'val_loss': 0.602228581905365, 'val_micro_f1': 0.6739858984947205, 'val_AUC_custom': 0.6734472513198853}\n",
            "\n",
            " custom learning rate by val_accracy if prev_val_acc > next_val_acc epoch drop 10% : 0.0009999999310821295\n",
            "\n",
            "Epoch 8/20\n",
            "51/52 [============================>.] - ETA: 0s - loss: 0.6062 - micro_f1: 0.6661 - AUC_custom: 0.6738\n",
            "Stop testing; got log keys: {'loss': 0.60215163230896, 'micro_f1': 0.6625328063964844, 'AUC_custom': 0.6691105365753174}\n",
            "52/52 [==============================] - 2s 37ms/step - loss: 0.6061 - micro_f1: 0.6661 - AUC_custom: 0.6738 - val_loss: 0.6022 - val_micro_f1: 0.6625 - val_AUC_custom: 0.6691\n",
            "\n",
            "End epoch 7 of training; got log keys: {'loss': 0.6041592955589294, 'micro_f1': 0.6657321453094482, 'AUC_custom': 0.6743046641349792, 'val_loss': 0.60215163230896, 'val_micro_f1': 0.6625328063964844, 'val_AUC_custom': 0.6691105365753174}\n",
            "\n",
            " custom learning rate by val_accracy if prev_val_acc > next_val_acc epoch drop 10% : 9.99999901978299e-05\n",
            "\n",
            "Epoch 9/20\n",
            "51/52 [============================>.] - ETA: 0s - loss: 0.6047 - micro_f1: 0.6701 - AUC_custom: 0.6752\n",
            "Stop testing; got log keys: {'loss': 0.6020724177360535, 'micro_f1': 0.6649196147918701, 'AUC_custom': 0.6700121760368347}\n",
            "52/52 [==============================] - 2s 36ms/step - loss: 0.6047 - micro_f1: 0.6698 - AUC_custom: 0.6751 - val_loss: 0.6021 - val_micro_f1: 0.6649 - val_AUC_custom: 0.6700\n",
            "\n",
            "End epoch 8 of training; got log keys: {'loss': 0.6039443016052246, 'micro_f1': 0.6638613939285278, 'AUC_custom': 0.6715359091758728, 'val_loss': 0.6020724177360535, 'val_micro_f1': 0.6649196147918701, 'val_AUC_custom': 0.6700121760368347}\n",
            "\n",
            " #################################################################################################### \n",
            " Best Weights Saved :  \n",
            " ####################################################################################################\n",
            "Epoch 10/20\n",
            "51/52 [============================>.] - ETA: 0s - loss: 0.6048 - micro_f1: 0.6688 - AUC_custom: 0.6720\n",
            "Stop testing; got log keys: {'loss': 0.6020496487617493, 'micro_f1': 0.6651166081428528, 'AUC_custom': 0.6699974536895752}\n",
            "52/52 [==============================] - 2s 36ms/step - loss: 0.6048 - micro_f1: 0.6686 - AUC_custom: 0.6720 - val_loss: 0.6020 - val_micro_f1: 0.6651 - val_AUC_custom: 0.6700\n",
            "\n",
            "End epoch 9 of training; got log keys: {'loss': 0.6039074063301086, 'micro_f1': 0.664954423904419, 'AUC_custom': 0.6725505590438843, 'val_loss': 0.6020496487617493, 'val_micro_f1': 0.6651166081428528, 'val_AUC_custom': 0.6699974536895752}\n",
            "\n",
            " #################################################################################################### \n",
            " Best Weights Saved :  \n",
            " ####################################################################################################\n",
            "Epoch 11/20\n",
            "51/52 [============================>.] - ETA: 0s - loss: 0.6051 - micro_f1: 0.6659 - AUC_custom: 0.6736\n",
            "Stop testing; got log keys: {'loss': 0.6020451188087463, 'micro_f1': 0.6655147075653076, 'AUC_custom': 0.6702979207038879}\n",
            "52/52 [==============================] - 2s 37ms/step - loss: 0.6051 - micro_f1: 0.6659 - AUC_custom: 0.6735 - val_loss: 0.6020 - val_micro_f1: 0.6655 - val_AUC_custom: 0.6703\n",
            "\n",
            "End epoch 10 of training; got log keys: {'loss': 0.6038866639137268, 'micro_f1': 0.6639789938926697, 'AUC_custom': 0.6717448830604553, 'val_loss': 0.6020451188087463, 'val_micro_f1': 0.6655147075653076, 'val_AUC_custom': 0.6702979207038879}\n",
            "\n",
            " #################################################################################################### \n",
            " Best Weights Saved :  \n",
            " ####################################################################################################\n",
            "Epoch 12/20\n",
            "51/52 [============================>.] - ETA: 0s - loss: 0.6027 - micro_f1: 0.6729 - AUC_custom: 0.6740\n",
            "Stop testing; got log keys: {'loss': 0.6020253896713257, 'micro_f1': 0.6652988195419312, 'AUC_custom': 0.6700289249420166}\n",
            "52/52 [==============================] - 2s 38ms/step - loss: 0.6027 - micro_f1: 0.6727 - AUC_custom: 0.6740 - val_loss: 0.6020 - val_micro_f1: 0.6653 - val_AUC_custom: 0.6700\n",
            "\n",
            "End epoch 11 of training; got log keys: {'loss': 0.6038663983345032, 'micro_f1': 0.6682716608047485, 'AUC_custom': 0.674311101436615, 'val_loss': 0.6020253896713257, 'val_micro_f1': 0.6652988195419312, 'val_AUC_custom': 0.6700289249420166}\n",
            "\n",
            " custom learning rate by val_accracy if prev_val_acc > next_val_acc epoch drop 10% : 9.99999883788405e-06\n",
            "\n",
            "Epoch 13/20\n",
            "51/52 [============================>.] - ETA: 0s - loss: 0.6023 - micro_f1: 0.6679 - AUC_custom: 0.6726\n",
            "Stop testing; got log keys: {'loss': 0.602021336555481, 'micro_f1': 0.665693998336792, 'AUC_custom': 0.6703318357467651}\n",
            "52/52 [==============================] - 2s 39ms/step - loss: 0.6024 - micro_f1: 0.6679 - AUC_custom: 0.6726 - val_loss: 0.6020 - val_micro_f1: 0.6657 - val_AUC_custom: 0.6703\n",
            "\n",
            "End epoch 12 of training; got log keys: {'loss': 0.6038508415222168, 'micro_f1': 0.6674365401268005, 'AUC_custom': 0.673527717590332, 'val_loss': 0.602021336555481, 'val_micro_f1': 0.665693998336792, 'val_AUC_custom': 0.6703318357467651}\n",
            "\n",
            " #################################################################################################### \n",
            " Best Weights Saved :  \n",
            " ####################################################################################################\n",
            "Epoch 14/20\n",
            "51/52 [============================>.] - ETA: 0s - loss: 0.5962 - micro_f1: 0.6750 - AUC_custom: 0.6809\n",
            "Stop testing; got log keys: {'loss': 0.6020200252532959, 'micro_f1': 0.6654800176620483, 'AUC_custom': 0.6700628995895386}\n",
            "52/52 [==============================] - 2s 36ms/step - loss: 0.5965 - micro_f1: 0.6747 - AUC_custom: 0.6806 - val_loss: 0.6020 - val_micro_f1: 0.6655 - val_AUC_custom: 0.6701\n",
            "\n",
            "End epoch 13 of training; got log keys: {'loss': 0.6038482189178467, 'micro_f1': 0.666714072227478, 'AUC_custom': 0.6733180284500122, 'val_loss': 0.6020200252532959, 'val_micro_f1': 0.6654800176620483, 'val_AUC_custom': 0.6700628995895386}\n",
            "\n",
            " custom learning rate by val_accracy if prev_val_acc > next_val_acc epoch drop 10% : 9.99999883788405e-07\n",
            "\n",
            "Epoch 15/20\n",
            "51/52 [============================>.] - ETA: 0s - loss: 0.6093 - micro_f1: 0.6541 - AUC_custom: 0.6653\n",
            "Stop testing; got log keys: {'loss': 0.6020194888114929, 'micro_f1': 0.6654800176620483, 'AUC_custom': 0.6700628995895386}\n",
            "52/52 [==============================] - 2s 38ms/step - loss: 0.6091 - micro_f1: 0.6547 - AUC_custom: 0.6656 - val_loss: 0.6020 - val_micro_f1: 0.6655 - val_AUC_custom: 0.6701\n",
            "\n",
            "End epoch 14 of training; got log keys: {'loss': 0.6038466691970825, 'micro_f1': 0.668389618396759, 'AUC_custom': 0.6733304262161255, 'val_loss': 0.6020194888114929, 'val_micro_f1': 0.6654800176620483, 'val_AUC_custom': 0.6700628995895386}\n",
            "\n",
            " custom learning rate by every 3rd epoch 9.999998695775503e-08\n",
            "\n",
            "Epoch 16/20\n",
            "51/52 [============================>.] - ETA: 0s - loss: 0.6052 - micro_f1: 0.6694 - AUC_custom: 0.6767\n",
            "Stop testing; got log keys: {'loss': 0.6020194292068481, 'micro_f1': 0.6654800176620483, 'AUC_custom': 0.6700628995895386}\n",
            "52/52 [==============================] - 2s 36ms/step - loss: 0.6051 - micro_f1: 0.6693 - AUC_custom: 0.6766 - val_loss: 0.6020 - val_micro_f1: 0.6655 - val_AUC_custom: 0.6701\n",
            "\n",
            "End epoch 15 of training; got log keys: {'loss': 0.6038464903831482, 'micro_f1': 0.6683064103126526, 'AUC_custom': 0.6740922331809998, 'val_loss': 0.6020194292068481, 'val_micro_f1': 0.6654800176620483, 'val_AUC_custom': 0.6700628995895386}\n",
            "Epoch 17/20\n",
            "51/52 [============================>.] - ETA: 0s - loss: 0.6044 - micro_f1: 0.6652 - AUC_custom: 0.6690\n",
            "Stop testing; got log keys: {'loss': 0.6020194888114929, 'micro_f1': 0.6654800176620483, 'AUC_custom': 0.6700628995895386}\n",
            "52/52 [==============================] - 2s 36ms/step - loss: 0.6044 - micro_f1: 0.6653 - AUC_custom: 0.6692 - val_loss: 0.6020 - val_micro_f1: 0.6655 - val_AUC_custom: 0.6701\n",
            "\n",
            "End epoch 16 of training; got log keys: {'loss': 0.6038464307785034, 'micro_f1': 0.6674444675445557, 'AUC_custom': 0.6739875078201294, 'val_loss': 0.6020194888114929, 'val_micro_f1': 0.6654800176620483, 'val_AUC_custom': 0.6700628995895386}\n",
            "Epoch 18/20\n",
            "51/52 [============================>.] - ETA: 0s - loss: 0.6063 - micro_f1: 0.6703 - AUC_custom: 0.6696\n",
            "Stop testing; got log keys: {'loss': 0.6020194888114929, 'micro_f1': 0.6654800176620483, 'AUC_custom': 0.6700628995895386}\n",
            "52/52 [==============================] - 2s 36ms/step - loss: 0.6062 - micro_f1: 0.6702 - AUC_custom: 0.6698 - val_loss: 0.6020 - val_micro_f1: 0.6655 - val_AUC_custom: 0.6701\n",
            "\n",
            "End epoch 17 of training; got log keys: {'loss': 0.6038463711738586, 'micro_f1': 0.6688142418861389, 'AUC_custom': 0.67420494556427, 'val_loss': 0.6020194888114929, 'val_micro_f1': 0.6654800176620483, 'val_AUC_custom': 0.6700628995895386}\n",
            "\n",
            " custom learning rate by every 3rd epoch 4.999999525523435e-09\n",
            "\n",
            "Epoch 19/20\n",
            "51/52 [============================>.] - ETA: 0s - loss: 0.5999 - micro_f1: 0.6700 - AUC_custom: 0.6762\n",
            "Stop testing; got log keys: {'loss': 0.6020194888114929, 'micro_f1': 0.6654800176620483, 'AUC_custom': 0.6700628995895386}\n",
            "52/52 [==============================] - 2s 37ms/step - loss: 0.6001 - micro_f1: 0.6699 - AUC_custom: 0.6761 - val_loss: 0.6020 - val_micro_f1: 0.6655 - val_AUC_custom: 0.6701\n",
            "\n",
            "End epoch 18 of training; got log keys: {'loss': 0.6038466095924377, 'micro_f1': 0.6669009923934937, 'AUC_custom': 0.6730114221572876, 'val_loss': 0.6020194888114929, 'val_micro_f1': 0.6654800176620483, 'val_AUC_custom': 0.6700628995895386}\n",
            "Epoch 20/20\n",
            "51/52 [============================>.] - ETA: 0s - loss: 0.6012 - micro_f1: 0.6665 - AUC_custom: 0.6711\n",
            "Stop testing; got log keys: {'loss': 0.6020194888114929, 'micro_f1': 0.6654800176620483, 'AUC_custom': 0.6700628995895386}\n",
            "52/52 [==============================] - 2s 37ms/step - loss: 0.6013 - micro_f1: 0.6665 - AUC_custom: 0.6711 - val_loss: 0.6020 - val_micro_f1: 0.6655 - val_AUC_custom: 0.6701\n",
            "\n",
            "End epoch 19 of training; got log keys: {'loss': 0.6038464903831482, 'micro_f1': 0.6656936407089233, 'AUC_custom': 0.6721823215484619, 'val_loss': 0.6020194888114929, 'val_micro_f1': 0.6654800176620483, 'val_AUC_custom': 0.6700628995895386}\n",
            "Stop training; got log keys: ['loss', 'micro_f1', 'AUC_custom', 'val_loss', 'val_micro_f1', 'val_AUC_custom']\n",
            "125/125 [==============================] - 3s 23ms/step - loss: 0.6033 - micro_f1: 0.6621 - AUC_custom: 0.6746\n",
            "\n",
            "Test results - Loss: 0.603325366973877 - micro_f1: 0.6620919704437256% - custom_AUC: 0.6746487021446228%\n"
          ],
          "name": "stdout"
        },
        {
          "output_type": "display_data",
          "data": {
            "image/png": "[encoded data removed]",
            "text/plain": [
              "<Figure size 432x288 with 1 Axes>"
            ]
          },
          "metadata": {
            "tags": []
          }
        }
      ]
    },
    {
      "cell_type": "code",
      "metadata": {
        "colab": {
          "base_uri": "https://localhost:8080/"
        },
        "id": "7lRwlYD11dTe",
        "outputId": "814527d7-c2b2-4da6-cd9b-014f56c60c9e"
      },
      "source": [
        "from sklearn.metrics import classification_report, accuracy_score\n",
        "\n",
        "ypred = model3.predict(X_test)\n",
        "\n",
        "ypred = [1 if i>=0.5 else 0 for i in ypred.ravel()]\n",
        "\n",
        "print(\"accuracy_score is \", accuracy_score(Y_test, ypred), \"\\n\")\n",
        "\n",
        "print(\"AUC_score is \", test_results[1], \"\\n\")\n",
        "\n",
        "print(classification_report(Y_test, ypred))"
      ],
      "execution_count": 17,
      "outputs": [
        {
          "output_type": "stream",
          "text": [
            "accuracy_score is  0.67425 \n",
            "\n",
            "AUC_score is  0.6620919704437256 \n",
            "\n",
            "              precision    recall  f1-score   support\n",
            "\n",
            "           0       0.67      0.69      0.68      2000\n",
            "           1       0.68      0.65      0.67      2000\n",
            "\n",
            "    accuracy                           0.67      4000\n",
            "   macro avg       0.67      0.67      0.67      4000\n",
            "weighted avg       0.67      0.67      0.67      4000\n",
            "\n"
          ],
          "name": "stdout"
        }
      ]
    },
    {
      "cell_type": "markdown",
      "metadata": {
        "id": "hYCQnYxD0MI5"
      },
      "source": [
        "### Model 4"
      ]
    },
    {
      "cell_type": "code",
      "metadata": {
        "id": "W4wsrCPIkzTq"
      },
      "source": [
        "import datetime\n",
        "import os\n",
        "\n",
        "log_dir=os.path.join(\"logs4\", datetime.datetime.now().strftime(\"%Y%m%d-%H%M%S\"))\n",
        "tensorboard_callback_4 = tf.keras.callbacks.TensorBoard(log_dir=log_dir,histogram_freq=1, write_graph=True, write_grads=True)\n",
        "\n",
        "%tensorboard --logdir logs4"
      ],
      "execution_count": null,
      "outputs": []
    },
    {
      "cell_type": "code",
      "metadata": {
        "colab": {
          "base_uri": "https://localhost:8080/"
        },
        "id": "kCf9QD-tFWuY",
        "outputId": "282911bf-e106-4d03-cd81-bfaa31aa0806"
      },
      "source": [
        "model4 = get_model('relu', 'he_uniform', 'AUC')\n",
        "\n",
        "history_relu_3 = model4.fit(X_train, Y_train, epochs=20, batch_size=250, \n",
        "                         verbose=1, validation_split=0.2, \n",
        "                         callbacks=[tensorboard_callback_4])\n",
        "\n",
        "# Test the model after training\n",
        "test_results = model4.evaluate(X_test, Y_test, verbose=1)\n",
        "\n",
        "print(f'\\nTest results - Loss: {test_results[0]} - AUC: {test_results[1]}%')"
      ],
      "execution_count": 19,
      "outputs": [
        {
          "output_type": "stream",
          "text": [
            "Feature shape: (24,)\n",
            "Epoch 1/20\n",
            "52/52 [==============================] - 1s 25ms/step - loss: 0.7767 - auc_4275: 0.5497 - val_loss: 0.6628 - val_auc_4275: 0.6388\n",
            "Epoch 2/20\n",
            "52/52 [==============================] - 1s 22ms/step - loss: 0.6612 - auc_4275: 0.6453 - val_loss: 0.6399 - val_auc_4275: 0.7138\n",
            "Epoch 3/20\n",
            "52/52 [==============================] - 1s 22ms/step - loss: 0.6368 - auc_4275: 0.7200 - val_loss: 0.6217 - val_auc_4275: 0.7290\n",
            "Epoch 4/20\n",
            "52/52 [==============================] - 1s 22ms/step - loss: 0.6215 - auc_4275: 0.7285 - val_loss: 0.6138 - val_auc_4275: 0.7326\n",
            "Epoch 5/20\n",
            "52/52 [==============================] - 1s 21ms/step - loss: 0.6151 - auc_4275: 0.7318 - val_loss: 0.6117 - val_auc_4275: 0.7352\n",
            "Epoch 6/20\n",
            "52/52 [==============================] - 1s 21ms/step - loss: 0.6171 - auc_4275: 0.7269 - val_loss: 0.6084 - val_auc_4275: 0.7361\n",
            "Epoch 7/20\n",
            "52/52 [==============================] - 1s 21ms/step - loss: 0.6127 - auc_4275: 0.7266 - val_loss: 0.6061 - val_auc_4275: 0.7377\n",
            "Epoch 8/20\n",
            "52/52 [==============================] - 1s 23ms/step - loss: 0.6130 - auc_4275: 0.7324 - val_loss: 0.6051 - val_auc_4275: 0.7376\n",
            "Epoch 9/20\n",
            "52/52 [==============================] - 1s 22ms/step - loss: 0.6072 - auc_4275: 0.7361 - val_loss: 0.6055 - val_auc_4275: 0.7383\n",
            "Epoch 10/20\n",
            "52/52 [==============================] - 1s 24ms/step - loss: 0.6085 - auc_4275: 0.7344 - val_loss: 0.6030 - val_auc_4275: 0.7392\n",
            "Epoch 11/20\n",
            "52/52 [==============================] - 1s 23ms/step - loss: 0.6043 - auc_4275: 0.7386 - val_loss: 0.6057 - val_auc_4275: 0.7380\n",
            "Epoch 12/20\n",
            "52/52 [==============================] - 1s 22ms/step - loss: 0.6039 - auc_4275: 0.7402 - val_loss: 0.6067 - val_auc_4275: 0.7397\n",
            "Epoch 13/20\n",
            "52/52 [==============================] - 1s 23ms/step - loss: 0.6069 - auc_4275: 0.7351 - val_loss: 0.6046 - val_auc_4275: 0.7378\n",
            "Epoch 14/20\n",
            "52/52 [==============================] - 1s 22ms/step - loss: 0.6064 - auc_4275: 0.7358 - val_loss: 0.6077 - val_auc_4275: 0.7376\n",
            "Epoch 15/20\n",
            "52/52 [==============================] - 1s 22ms/step - loss: 0.6073 - auc_4275: 0.7348 - val_loss: 0.6030 - val_auc_4275: 0.7390\n",
            "Epoch 16/20\n",
            "52/52 [==============================] - 1s 22ms/step - loss: 0.6031 - auc_4275: 0.7376 - val_loss: 0.6034 - val_auc_4275: 0.7377\n",
            "Epoch 17/20\n",
            "52/52 [==============================] - 1s 22ms/step - loss: 0.6056 - auc_4275: 0.7345 - val_loss: 0.6014 - val_auc_4275: 0.7403\n",
            "Epoch 18/20\n",
            "52/52 [==============================] - 1s 22ms/step - loss: 0.6024 - auc_4275: 0.7392 - val_loss: 0.6006 - val_auc_4275: 0.7403\n",
            "Epoch 19/20\n",
            "52/52 [==============================] - 1s 22ms/step - loss: 0.6054 - auc_4275: 0.7361 - val_loss: 0.6009 - val_auc_4275: 0.7400\n",
            "Epoch 20/20\n",
            "52/52 [==============================] - 1s 23ms/step - loss: 0.6039 - auc_4275: 0.7370 - val_loss: 0.6045 - val_auc_4275: 0.7399\n",
            "125/125 [==============================] - 1s 10ms/step - loss: 0.6039 - auc_4275: 0.7410\n",
            "\n",
            "Test results - Loss: 0.6039254665374756 - AUC: 0.740996241569519%\n"
          ],
          "name": "stdout"
        }
      ]
    },
    {
      "cell_type": "code",
      "metadata": {
        "colab": {
          "base_uri": "https://localhost:8080/"
        },
        "id": "StrIAOjddWG8",
        "outputId": "c45a17d2-61b0-4336-8c49-f7ff3d90d47e"
      },
      "source": [
        "from sklearn.metrics import classification_report, accuracy_score\n",
        "\n",
        "ypred = model4.predict(X_test)\n",
        "\n",
        "ypred = [1 if i>=0.5 else 0 for i in ypred.ravel()]\n",
        "\n",
        "print(\"accuracy_score is \", accuracy_score(Y_test, ypred), \"\\n\")\n",
        "\n",
        "print(\"AUC_score is \", test_results[1], \"\\n\")\n",
        "\n",
        "print(classification_report(Y_test, ypred))"
      ],
      "execution_count": 20,
      "outputs": [
        {
          "output_type": "stream",
          "text": [
            "accuracy_score is  0.67025 \n",
            "\n",
            "AUC_score is  0.740996241569519 \n",
            "\n",
            "              precision    recall  f1-score   support\n",
            "\n",
            "           0       0.71      0.58      0.64      2000\n",
            "           1       0.64      0.76      0.70      2000\n",
            "\n",
            "    accuracy                           0.67      4000\n",
            "   macro avg       0.68      0.67      0.67      4000\n",
            "weighted avg       0.68      0.67      0.67      4000\n",
            "\n"
          ],
          "name": "stdout"
        }
      ]
    },
    {
      "cell_type": "code",
      "metadata": {
        "id": "g6e4n2vJiCzC"
      },
      "source": [
        "!pip install shap"
      ],
      "execution_count": null,
      "outputs": []
    },
    {
      "cell_type": "code",
      "metadata": {
        "colab": {
          "base_uri": "https://localhost:8080/"
        },
        "id": "CxMtQOsgidSR",
        "outputId": "270c6a47-267c-4c13-a2ee-fd11215f5326"
      },
      "source": [
        "from sklearn.ensemble import RandomForestRegressor\n",
        "\n",
        "model = RandomForestRegressor(max_depth=6, random_state=0, n_estimators=10)\n",
        "model.fit(X_train, Y_train)"
      ],
      "execution_count": 22,
      "outputs": [
        {
          "output_type": "execute_result",
          "data": {
            "text/plain": [
              "RandomForestRegressor(bootstrap=True, ccp_alpha=0.0, criterion='mse',\n",
              "                      max_depth=6, max_features='auto', max_leaf_nodes=None,\n",
              "                      max_samples=None, min_impurity_decrease=0.0,\n",
              "                      min_impurity_split=None, min_samples_leaf=1,\n",
              "                      min_samples_split=2, min_weight_fraction_leaf=0.0,\n",
              "                      n_estimators=10, n_jobs=None, oob_score=False,\n",
              "                      random_state=0, verbose=0, warm_start=False)"
            ]
          },
          "metadata": {
            "tags": []
          },
          "execution_count": 22
        }
      ]
    },
    {
      "cell_type": "code",
      "metadata": {
        "colab": {
          "base_uri": "https://localhost:8080/",
          "height": 581
        },
        "id": "c9eVN03Hh9pu",
        "outputId": "8f812bdc-7e36-4898-fc49-4258a35ec945"
      },
      "source": [
        "import shap\n",
        "\n",
        "shap_values = shap.TreeExplainer(model).shap_values(X_train)\n",
        "\n",
        "shap.summary_plot(shap_values, X_train, plot_type=\"bar\")"
      ],
      "execution_count": 25,
      "outputs": [
        {
          "output_type": "display_data",
          "data": {
            "image/png": "[encoded data removed]",
            "text/plain": [
              "<Figure size 576x684 with 1 Axes>"
            ]
          },
          "metadata": {
            "tags": []
          }
        }
      ]
    },
    {
      "cell_type": "code",
      "metadata": {
        "colab": {
          "base_uri": "https://localhost:8080/",
          "height": 585
        },
        "id": "o1ou_GTblHdt",
        "outputId": "87ab3c45-619c-4cbc-dbae-acc53d0da722"
      },
      "source": [
        "import matplotlib.pyplot as plt\n",
        "\n",
        "shap_values = shap.TreeExplainer(model).shap_values(X_test)\n",
        "\n",
        "f = plt.figure()\n",
        "shap.summary_plot(shap_values, X_test)\n",
        "f.savefig(\"/summary_plot1.png\", bbox_inches='tight', dpi=600)"
      ],
      "execution_count": 26,
      "outputs": [
        {
          "output_type": "display_data",
          "data": {
            "image/png": "[encoded data removed]",
            "text/plain": [
              "<Figure size 576x684 with 2 Axes>"
            ]
          },
          "metadata": {
            "tags": []
          }
        }
      ]
    },
    {
      "cell_type": "markdown",
      "metadata": {
        "id": "t68KATFh0iHe"
      },
      "source": [
        "#Result"
      ]
    },
    {
      "cell_type": "code",
      "metadata": {
        "colab": {
          "base_uri": "https://localhost:8080/"
        },
        "id": "CLVCwZnGzyca",
        "outputId": "a8e62705-9ef0-44ac-9972-21437fcdf1b8"
      },
      "source": [
        "from prettytable import PrettyTable \n",
        "\n",
        "# Specify the Column Names while initializing the Table \n",
        "myTable = PrettyTable([\"Model\", \"micro-F1\", \"AUC\", 'Accuracy', 'Activation', 'Weight_Initializer']) \n",
        "\n",
        "# Add rows \n",
        "myTable.add_row([\"1\", \"66 %\", \"67 %\", \"67 %\", 'tanh', 'RandomUniform']) \n",
        "myTable.add_row([\"2\", \"66 %\", \"67 %\", \"67 %\", 'relu', 'RandomUniform']) \n",
        "myTable.add_row([\"3\", \"66\", \"67\", \"67 %\", 'relu', 'he_uniform']) \n",
        "myTable.add_row([\"4\", \"67\", \"74\", \"67 %\", 'relu', 'he_uniform']) \n",
        "\n",
        "print(myTable)"
      ],
      "execution_count": 27,
      "outputs": [
        {
          "output_type": "stream",
          "text": [
            "+-------+----------+------+----------+------------+--------------------+\n",
            "| Model | micro-F1 | AUC  | Accuracy | Activation | Weight_Initializer |\n",
            "+-------+----------+------+----------+------------+--------------------+\n",
            "|   1   |   66 %   | 67 % |   67 %   |    tanh    |   RandomUniform    |\n",
            "|   2   |   66 %   | 67 % |   67 %   |    relu    |   RandomUniform    |\n",
            "|   3   |    66    |  67  |   67 %   |    relu    |     he_uniform     |\n",
            "|   4   |    67    |  74  |   67 %   |    relu    |     he_uniform     |\n",
            "+-------+----------+------+----------+------------+--------------------+\n"
          ],
          "name": "stdout"
        }
      ]
    }
  ]
}