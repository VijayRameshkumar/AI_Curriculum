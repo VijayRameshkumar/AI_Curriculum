{
  "nbformat": 4,
  "nbformat_minor": 0,
  "metadata": {
    "colab": {
      "name": "00_pytorch_basics.ipynb",
      "provenance": [],
      "collapsed_sections": [],
      "authorship_tag": "ABX9TyPzakw0S0PAblZ81gNqvFl7",
      "include_colab_link": true
    },
    "kernelspec": {
      "name": "python3",
      "display_name": "Python 3"
    },
    "language_info": {
      "name": "python"
    }
  },
  "cells": [
    {
      "cell_type": "markdown",
      "metadata": {
        "id": "view-in-github",
        "colab_type": "text"
      },
      "source": [
        "<a href=\"https://colab.research.google.com/github/VijayRameshkumar/AI_Curriculum/blob/master/00_pytorch_basics.ipynb\" target=\"_parent\"><img src=\"https://colab.research.google.com/assets/colab-badge.svg\" alt=\"Open In Colab\"/></a>"
      ]
    },
    {
      "cell_type": "code",
      "metadata": {
        "id": "V14p5_8k6siS"
      },
      "source": [
        "import torch"
      ],
      "execution_count": 1,
      "outputs": []
    },
    {
      "cell_type": "code",
      "metadata": {
        "colab": {
          "base_uri": "https://localhost:8080/"
        },
        "id": "axXRd0Fe7Ggf",
        "outputId": "39109cfe-a3e5-4c44-c578-94fce01f0919"
      },
      "source": [
        "# cpu  - cpu\n",
        "# cuda - gpu\n",
        "\n",
        "is_gpu = \"cuda\" if torch.cuda.is_available() else \"cpu\"\n",
        "tensor = torch.tensor([[1, 2, 3], [4, 5, 6]], dtype=torch.float, device=is_gpu, requires_grad=True)\n",
        "\n",
        "print(f\"tensor shape :\\n\\t{tensor.shape}\\ntensor is : \\n\\t{tensor}\")"
      ],
      "execution_count": 10,
      "outputs": [
        {
          "output_type": "stream",
          "text": [
            "tensor shape :\n",
            "\ttorch.Size([2, 3])\n",
            "tensor is : \n",
            "\ttensor([[1., 2., 3.],\n",
            "        [4., 5., 6.]], requires_grad=True)\n"
          ],
          "name": "stdout"
        }
      ]
    },
    {
      "cell_type": "markdown",
      "metadata": {
        "id": "1SrViGN1AUra"
      },
      "source": [
        "## 1. Method to create tensors"
      ]
    },
    {
      "cell_type": "code",
      "metadata": {
        "colab": {
          "base_uri": "https://localhost:8080/"
        },
        "id": "FQxDi9mq7R6F",
        "outputId": "bb92a589-fae5-4582-fb78-5e8c07f8ba3a"
      },
      "source": [
        "print(torch.empty((3, 2)), end=\"\\n\\n\")\n",
        "print(torch.zeros((3, 2)), end=\"\\n\\n\")\n",
        "print(torch.ones((3, 2)), end=\"\\n\\n\")\n",
        "print(torch.eye(3, 3), end=\"\\n\\n\")\n",
        "print(torch.arange(1, 10, 1).reshape(3, 3), end=\"\\n\\n\")\n",
        "print(torch.linspace(start=0.1, end=1, steps=10), end=\"\\n\\n\")\n",
        "print(torch.empty((3, 3)).normal_(mean=0, std=1), end=\"\\n\\n\")\n",
        "print(torch.empty((3, 3)).uniform_(0, 1), end=\"\\n\\n\")\n",
        "print(torch.diag((torch.ones(3, 3))), end=\"\\n\\n\") # fetch diagonal Values"
      ],
      "execution_count": 30,
      "outputs": [
        {
          "output_type": "stream",
          "text": [
            "tensor([[-2.1320e-28,  3.0920e-41],\n",
            "        [ 3.3631e-44,  0.0000e+00],\n",
            "        [        nan,  0.0000e+00]])\n",
            "\n",
            "tensor([[0., 0.],\n",
            "        [0., 0.],\n",
            "        [0., 0.]])\n",
            "\n",
            "tensor([[1., 1.],\n",
            "        [1., 1.],\n",
            "        [1., 1.]])\n",
            "\n",
            "tensor([[1., 0., 0.],\n",
            "        [0., 1., 0.],\n",
            "        [0., 0., 1.]])\n",
            "\n",
            "tensor([[1, 2, 3],\n",
            "        [4, 5, 6],\n",
            "        [7, 8, 9]])\n",
            "\n",
            "tensor([0.1000, 0.2000, 0.3000, 0.4000, 0.5000, 0.6000, 0.7000, 0.8000, 0.9000,\n",
            "        1.0000])\n",
            "\n",
            "tensor([[ 0.6166, -0.4784,  0.0967],\n",
            "        [-0.0667,  1.3739, -0.2398],\n",
            "        [-1.5992, -0.3194, -0.0947]])\n",
            "\n",
            "tensor([[0.6250, 0.6092, 0.9170],\n",
            "        [0.7165, 0.2615, 0.9060],\n",
            "        [0.8850, 0.9479, 0.5150]])\n",
            "\n",
            "tensor([1., 1., 1.])\n",
            "\n"
          ],
          "name": "stdout"
        }
      ]
    },
    {
      "cell_type": "markdown",
      "metadata": {
        "id": "9oYjPKqDAY-H"
      },
      "source": [
        "## 2. Convert tensor into other types"
      ]
    },
    {
      "cell_type": "code",
      "metadata": {
        "colab": {
          "base_uri": "https://localhost:8080/"
        },
        "id": "0jEpqDVz9hkV",
        "outputId": "f8bb502c-a256-42fd-fa9a-9247c9f4ee32"
      },
      "source": [
        "tensor = torch.arange(1, 11, 1)\n",
        "print(tensor.bool(), end='\\n')\n",
        "print(tensor.short(), end='\\n')\n",
        "print(tensor.half(), end='\\n')\n",
        "print(tensor.long(), end='\\n')\n",
        "print(tensor.float(), end='\\n')\n",
        "print(tensor.double(), end='\\n')"
      ],
      "execution_count": 32,
      "outputs": [
        {
          "output_type": "stream",
          "text": [
            "tensor([True, True, True, True, True, True, True, True, True, True])\n",
            "tensor([ 1,  2,  3,  4,  5,  6,  7,  8,  9, 10], dtype=torch.int16)\n",
            "tensor([ 1.,  2.,  3.,  4.,  5.,  6.,  7.,  8.,  9., 10.], dtype=torch.float16)\n",
            "tensor([ 1,  2,  3,  4,  5,  6,  7,  8,  9, 10])\n",
            "tensor([ 1.,  2.,  3.,  4.,  5.,  6.,  7.,  8.,  9., 10.])\n",
            "tensor([ 1.,  2.,  3.,  4.,  5.,  6.,  7.,  8.,  9., 10.], dtype=torch.float64)\n"
          ],
          "name": "stdout"
        }
      ]
    },
    {
      "cell_type": "code",
      "metadata": {
        "colab": {
          "base_uri": "https://localhost:8080/"
        },
        "id": "XwStRPd0_doD",
        "outputId": "b02454a9-676c-4b4b-e482-b2ef45114876"
      },
      "source": [
        "import numpy as np\n",
        "\n",
        "np_array = np.zeros((3, 3))\n",
        "tensor = torch.from_numpy(np_array)\n",
        "print(f\"tensor : {tensor}\\n\")\n",
        "\n",
        "tensor = tensor.numpy()\n",
        "print(f\"numpy : {tensor}\")"
      ],
      "execution_count": 34,
      "outputs": [
        {
          "output_type": "stream",
          "text": [
            "tensor : tensor([[0., 0., 0.],\n",
            "        [0., 0., 0.],\n",
            "        [0., 0., 0.]], dtype=torch.float64)\n",
            "\n",
            "numpy : [[0. 0. 0.]\n",
            " [0. 0. 0.]\n",
            " [0. 0. 0.]]\n"
          ],
          "name": "stdout"
        }
      ]
    },
    {
      "cell_type": "markdown",
      "metadata": {
        "id": "jAvaj0JFBk1m"
      },
      "source": [
        "##3. Tensor Math & Comaparision operation"
      ]
    },
    {
      "cell_type": "code",
      "metadata": {
        "colab": {
          "base_uri": "https://localhost:8080/"
        },
        "id": "Q4dVUrHgBV30",
        "outputId": "c40f94e0-b56f-4cb0-8b47-c80d574e3793"
      },
      "source": [
        "x = torch.tensor([[1, 2, 3], [1, 2, 3]])\n",
        "y = torch.tensor([[4, 5, 6], [4, 5, 6]])\n",
        "\n",
        "################################################\n",
        "z1 = torch.empty((2, 3))\n",
        "print(f\"Z1 before addition : {z1}\")\n",
        "torch.add(x, y, out=z1)\n",
        "print(f\"Z1 after addition : {z1}\\n\\n\")\n",
        "\n",
        "z1 = torch.empty((2, 3))\n",
        "print(f\"Z1 before addition : {z1}\")\n",
        "z1 = x + y\n",
        "print(f\"Z1 after addition : {z1}\\n\\n\")\n",
        "\n",
        "################################################\n",
        "z1 = torch.empty((2, 3))\n",
        "print(f\"Z1 before subtraction : {z1}\")\n",
        "torch.sub(x, y, out=z1)\n",
        "print(f\"Z1 after subtraction : {z1}\\n\\n\")\n",
        "\n",
        "z1 = torch.empty((2, 3))\n",
        "print(f\"Z1 before subtraction : {z1}\")\n",
        "z1 = x - y\n",
        "print(f\"Z1 after subtraction : {z1}\\n\\n\")\n",
        "\n",
        "################################################\n",
        "z1 = torch.empty((2, 3))\n",
        "print(f\"Z1 before division : {z1}\")\n",
        "torch.div(x, y, out=z1)\n",
        "print(f\"Z1 after division : {z1}\\n\\n\")\n",
        "torch.true_divide(x, y, out=z1)\n",
        "print(f\"Z1 after division : {z1}\\n\\n\")\n",
        "\n",
        "z1 = torch.empty((2, 3))\n",
        "print(f\"Z1 before division : {z1}\")\n",
        "z1 = x / y\n",
        "print(f\"Z1 after division : {z1}\\n\\n\")\n"
      ],
      "execution_count": 41,
      "outputs": [
        {
          "output_type": "stream",
          "text": [
            "Z1 before addition : tensor([[-2.8071e-28,  3.0920e-41,  7.0065e-45],\n",
            "        [ 0.0000e+00,  8.4078e-45,  0.0000e+00]])\n",
            "Z1 after addition : tensor([[5., 7., 9.],\n",
            "        [5., 7., 9.]])\n",
            "\n",
            "\n",
            "Z1 before addition : tensor([[-2.8075e-28,  3.0920e-41,  7.0065e-45],\n",
            "        [ 8.4078e-45,  4.0000e-01,  5.0000e-01]])\n",
            "Z1 after addition : tensor([[5, 7, 9],\n",
            "        [5, 7, 9]])\n",
            "\n",
            "\n",
            "Z1 before subtraction : tensor([[-2.8069e-28,  3.0920e-41,  7.0065e-45],\n",
            "        [ 8.4078e-45,  4.0000e-01,  5.0000e-01]])\n",
            "Z1 after subtraction : tensor([[-3., -3., -3.],\n",
            "        [-3., -3., -3.]])\n",
            "\n",
            "\n",
            "Z1 before subtraction : tensor([[-2.8075e-28,  3.0920e-41,  7.0065e-45],\n",
            "        [ 8.4078e-45,  4.0000e-01,  5.0000e-01]])\n",
            "Z1 after subtraction : tensor([[-3, -3, -3],\n",
            "        [-3, -3, -3]])\n",
            "\n",
            "\n",
            "Z1 before division : tensor([[-2.8071e-28,  3.0920e-41,  7.0065e-45],\n",
            "        [ 8.4078e-45,  4.0000e-01,  5.0000e-01]])\n",
            "Z1 after division : tensor([[0.2500, 0.4000, 0.5000],\n",
            "        [0.2500, 0.4000, 0.5000]])\n",
            "\n",
            "\n",
            "Z1 after division : tensor([[0.2500, 0.4000, 0.5000],\n",
            "        [0.2500, 0.4000, 0.5000]])\n",
            "\n",
            "\n",
            "Z1 before division : tensor([[-2.8071e-28,  3.0920e-41,  5.0000e-01],\n",
            "        [ 2.5000e-01,  4.0000e-01,  5.0000e-01]])\n",
            "Z1 after division : tensor([[0.2500, 0.4000, 0.5000],\n",
            "        [0.2500, 0.4000, 0.5000]])\n",
            "\n",
            "\n"
          ],
          "name": "stdout"
        }
      ]
    },
    {
      "cell_type": "code",
      "metadata": {
        "colab": {
          "base_uri": "https://localhost:8080/"
        },
        "id": "x5yuFoC4CMUH",
        "outputId": "f2140a55-f5a7-4f23-9898-29d7faf06f5f"
      },
      "source": [
        "## inplace operations\n",
        "\n",
        "x = torch.tensor([[1, 2, 3], [1, 2, 3]])\n",
        "t = torch.zeros((2, 3))\n",
        "\n",
        "print(f\" before inplace addition {t}\")\n",
        "t.add_(x)\n",
        "print(f\" after inplace addition {t}\\n\\n\")\n",
        "\n",
        "x = torch.tensor([[1, 2, 3], [1, 2, 3]])\n",
        "t = torch.zeros((2, 3))\n",
        "\n",
        "print(f\" before inplace addition {t}\")\n",
        "t += x\n",
        "print(f\" after inplace addition {t}\")"
      ],
      "execution_count": 43,
      "outputs": [
        {
          "output_type": "stream",
          "text": [
            " before inplace addition tensor([[0., 0., 0.],\n",
            "        [0., 0., 0.]])\n",
            " after inplace addition tensor([[1., 2., 3.],\n",
            "        [1., 2., 3.]])\n",
            "\n",
            "\n",
            " before inplace addition tensor([[0., 0., 0.],\n",
            "        [0., 0., 0.]])\n",
            " after inplace addition tensor([[1., 2., 3.],\n",
            "        [1., 2., 3.]])\n"
          ],
          "name": "stdout"
        }
      ]
    },
    {
      "cell_type": "code",
      "metadata": {
        "colab": {
          "base_uri": "https://localhost:8080/"
        },
        "id": "VNYxfZ0HEoi8",
        "outputId": "a9e4618b-57d3-44f6-e37b-841e7a0fb5b4"
      },
      "source": [
        "## basic tensor methods\n",
        "print(f\"exponential {x.pow(2)}\")\n",
        "print(f\"exponential {x**2}\\n\\n\")\n",
        "\n",
        "## simple comparison\n",
        "print(f\"comparison {x>1}\") ##boolean\n",
        "print(f\"comparison {(x>1).type(torch.uint8)}\") ##booleann to int"
      ],
      "execution_count": 51,
      "outputs": [
        {
          "output_type": "stream",
          "text": [
            "exponential tensor([[1, 4, 9],\n",
            "        [1, 4, 9]])\n",
            "exponential tensor([[1, 4, 9],\n",
            "        [1, 4, 9]])\n",
            "\n",
            "\n",
            "comparison tensor([[False,  True,  True],\n",
            "        [False,  True,  True]])\n",
            "comparison tensor([[0, 1, 1],\n",
            "        [0, 1, 1]], dtype=torch.uint8)\n"
          ],
          "name": "stdout"
        }
      ]
    },
    {
      "cell_type": "code",
      "metadata": {
        "colab": {
          "base_uri": "https://localhost:8080/"
        },
        "id": "LfeOwwJTE6HW",
        "outputId": "c4a9afd3-d582-4514-8034-8d9962bf8d7d"
      },
      "source": [
        "## matrix multiplication\n",
        "\n",
        "x1 = torch.rand((2, 5))\n",
        "x2 = torch.rand((5, 3))\n",
        "\n",
        "print(f\"matrix multiplication {torch.mm(x1, x2)}\\n\\n\")\n",
        "print(f\"matrix multiplication {x1.mm(x2)}\\n\\n\")"
      ],
      "execution_count": 54,
      "outputs": [
        {
          "output_type": "stream",
          "text": [
            "matrix multiplication tensor([[1.1779, 1.1450, 1.1844],\n",
            "        [1.2931, 1.2562, 1.3766]])\n",
            "\n",
            "\n",
            "matrix multiplication tensor([[1.1779, 1.1450, 1.1844],\n",
            "        [1.2931, 1.2562, 1.3766]])\n",
            "\n",
            "\n"
          ],
          "name": "stdout"
        }
      ]
    },
    {
      "cell_type": "code",
      "metadata": {
        "colab": {
          "base_uri": "https://localhost:8080/"
        },
        "id": "aYPovkmTGklk",
        "outputId": "e0f4203d-ee5b-45b7-dad1-96859615f3f7"
      },
      "source": [
        "##matrix exponential multiplication\n",
        "x1 = sum([torch.ones((3, 3)) for i in range(1)])\n",
        "\n",
        "print(x1) \n",
        "x1.matrix_power(6)"
      ],
      "execution_count": 79,
      "outputs": [
        {
          "output_type": "stream",
          "text": [
            "tensor([[1., 1., 1.],\n",
            "        [1., 1., 1.],\n",
            "        [1., 1., 1.]])\n"
          ],
          "name": "stdout"
        },
        {
          "output_type": "execute_result",
          "data": {
            "text/plain": [
              "tensor([[243., 243., 243.],\n",
              "        [243., 243., 243.],\n",
              "        [243., 243., 243.]])"
            ]
          },
          "metadata": {},
          "execution_count": 79
        }
      ]
    },
    {
      "cell_type": "code",
      "metadata": {
        "colab": {
          "base_uri": "https://localhost:8080/"
        },
        "id": "h1rGbtSmKwYg",
        "outputId": "e5b171e3-c6af-4bf3-fa7b-bc82d2022160"
      },
      "source": [
        "## element wise multiplication\n",
        "\n",
        "x = torch.tensor([[1, 2, 3], [1, 2, 3]])\n",
        "y = torch.tensor([[4, 5, 6], [4, 5, 6]])\n",
        "\n",
        "print(f\"element wise mul : {x*y} \\n\\n\")\n",
        "z = x*y\n",
        "\n",
        "x = torch.tensor([1, 2, 3])\n",
        "y = torch.tensor([4, 5, 6])\n",
        "print(f\"dot product : {torch.dot(x, y)} \\n\\n\")"
      ],
      "execution_count": 90,
      "outputs": [
        {
          "output_type": "stream",
          "text": [
            "element wise mul : tensor([[ 4, 10, 18],\n",
            "        [ 4, 10, 18]]) \n",
            "\n",
            "\n",
            "dot product : 32 \n",
            "\n",
            "\n"
          ],
          "name": "stdout"
        }
      ]
    },
    {
      "cell_type": "code",
      "metadata": {
        "colab": {
          "base_uri": "https://localhost:8080/"
        },
        "id": "5AvUMvZ6LAWj",
        "outputId": "3677dbe3-3fa6-4fb5-cc13-e964c3fec647"
      },
      "source": [
        "## batch matrix multiplication\n",
        "batch = 32\n",
        "n = 10\n",
        "m = 20\n",
        "p = 30\n",
        "\n",
        "tensor1 = torch.rand((batch, n, m))\n",
        "tensor2 = torch.rand((batch, m, p))\n",
        "\n",
        "out_bmm = torch.bmm(tensor1, tensor2)\n",
        "\n",
        "print(tensor1.shape, tensor2.shape, out_bmm.shape)"
      ],
      "execution_count": 92,
      "outputs": [
        {
          "output_type": "stream",
          "text": [
            "torch.Size([32, 10, 20]) torch.Size([32, 20, 30]) torch.Size([32, 10, 30])\n"
          ],
          "name": "stdout"
        }
      ]
    },
    {
      "cell_type": "code",
      "metadata": {
        "colab": {
          "base_uri": "https://localhost:8080/"
        },
        "id": "InDJv_m2ZU03",
        "outputId": "83b7da91-01d2-45fb-9335-36bc0bc19ca2"
      },
      "source": [
        "#Example of Broadcasting\n",
        "x1 = torch.rand((5, 5))\n",
        "x2 = torch.rand((1, 5))\n",
        "\n",
        "print(x1, x2)\n",
        "\n",
        "z = x1-x2\n",
        "print(z, z.shape)\n",
        "\n",
        "z = x1**x2\n",
        "print(z, z.shape)"
      ],
      "execution_count": 95,
      "outputs": [
        {
          "output_type": "stream",
          "text": [
            "tensor([[0.8221, 0.5668, 0.7983, 0.6125, 0.6381],\n",
            "        [0.7611, 0.9641, 0.1298, 0.1610, 0.9584],\n",
            "        [0.1787, 0.6036, 0.0366, 0.9463, 0.1288],\n",
            "        [0.2189, 0.6480, 0.0283, 0.6905, 0.3988],\n",
            "        [0.1277, 0.7695, 0.4759, 0.2765, 0.9941]]) tensor([[0.9255, 0.0976, 0.6284, 0.1711, 0.9822]])\n",
            "tensor([[-0.1034,  0.4691,  0.1699,  0.4414, -0.3441],\n",
            "        [-0.1644,  0.8664, -0.4986, -0.0101, -0.0239],\n",
            "        [-0.7468,  0.5060, -0.5918,  0.7752, -0.8535],\n",
            "        [-0.7067,  0.5503, -0.6001,  0.5194, -0.5834],\n",
            "        [-0.7978,  0.6718, -0.1525,  0.1054,  0.0119]]) torch.Size([5, 5])\n",
            "tensor([[0.8342, 0.9461, 0.8680, 0.9195, 0.6432],\n",
            "        [0.7768, 0.9964, 0.2772, 0.7316, 0.9591],\n",
            "        [0.2032, 0.9519, 0.1252, 0.9906, 0.1336],\n",
            "        [0.2451, 0.9585, 0.1064, 0.9386, 0.4054],\n",
            "        [0.1488, 0.9747, 0.6271, 0.8026, 0.9942]]) torch.Size([5, 5])\n"
          ],
          "name": "stdout"
        }
      ]
    },
    {
      "cell_type": "code",
      "metadata": {
        "colab": {
          "base_uri": "https://localhost:8080/"
        },
        "id": "uv8e00kFbICB",
        "outputId": "d657f2cc-73b0-4e46-a245-74f435ba7b0c"
      },
      "source": [
        "# Other usefull tensor operations\n",
        "x = torch.tensor([[1, 2, 3], [1, 2, 3]])\n",
        "y = torch.tensor([[4, 5, 6], [4, 5, 6]])\n",
        "\n",
        "sum_x = torch.sum(x)\n",
        "print(f\"sum : {sum_x}\")\n",
        "\n",
        "values, indices = torch.max(x, dim=0)\n",
        "print(f\"max : \\t values{values} \\t indices{indices}\")\n",
        "\n",
        "values, indices = torch.min(x, dim=0)\n",
        "print(f\"min : \\t values{values} \\t indices{indices}\")\n",
        "\n",
        "abs_x = torch.abs(x)\n",
        "print(f\"absolute x {abs_x}\")\n",
        "\n",
        "z = torch.argmax(x, dim=0)\n",
        "print(f\"argmax : {z}\")\n",
        "\n",
        "z = torch.argmin(x, dim=0)\n",
        "print(f\"argmin : {z}\")\n",
        "\n",
        "mean_x = torch.mean(x.float(), dim=0)\n",
        "print(f\"mean : {mean_x}\")\n",
        "\n",
        "z = torch.eq(torch.tensor([[1, 2], [3, 4]]), torch.tensor([[1, 1], [4, 4]])) #compare equal (x & y)\n",
        "print(f\"eq : {z}\")\n",
        "\n",
        "y = torch.tensor([[4, 5, 6], [2, 1, 3]])\n",
        "sorted_y, indices = torch.sort(y, dim=1, descending=False)\n",
        "\n",
        "print(f\"sorted y {sorted_y}, indices {indices}\\n\\n\")\n",
        "print(f\"clamping {torch.clamp(sorted_y, min=2)}\\n\")\n",
        "print(f\"Binary to bool from [1, 0, 0, 1, 0, 1, 1, 1] to: {torch.tensor([1, 0, 0, 1, 0, 1, 1, 1], dtype=torch.bool)}\\n\")\n",
        "print(f\"if any non-null : {torch.any(x)} \\n\")\n",
        "print(f\"if all is not null : {torch.all(x)} \\n\")\n",
        "\n",
        "print()"
      ],
      "execution_count": 110,
      "outputs": [
        {
          "output_type": "stream",
          "text": [
            "sum : 12\n",
            "max : \t valuestensor([1, 2, 3]) \t indicestensor([0, 0, 0])\n",
            "min : \t valuestensor([1, 2, 3]) \t indicestensor([0, 0, 0])\n",
            "absolute x tensor([[1, 2, 3],\n",
            "        [1, 2, 3]])\n",
            "argmax : tensor([0, 0, 0])\n",
            "argmin : tensor([0, 0, 0])\n",
            "mean : tensor([1., 2., 3.])\n",
            "eq : tensor([[ True, False],\n",
            "        [False,  True]])\n",
            "sorted y tensor([[4, 5, 6],\n",
            "        [1, 2, 3]]), indices tensor([[0, 1, 2],\n",
            "        [1, 0, 2]])\n",
            "\n",
            "\n",
            "clamping tensor([[4, 5, 6],\n",
            "        [2, 2, 3]])\n",
            "Binary to bool from [1, 0, 0, 1, 0, 1, 1, 1] to: tensor([ True, False, False,  True, False,  True,  True,  True]) \n",
            "\n",
            "if any non null : True\n",
            "if any null : True\n"
          ],
          "name": "stdout"
        }
      ]
    },
    {
      "cell_type": "code",
      "metadata": {
        "colab": {
          "base_uri": "https://localhost:8080/"
        },
        "id": "bRXlauw9eBzB",
        "outputId": "fc4794b7-f1d3-4d12-cc1f-6a3fd35caef0"
      },
      "source": [
        "## tensor Indexing\n",
        "\n",
        "batch_size = 10\n",
        "features = 25\n",
        "\n",
        "x = torch.rand(batch_size, features)\n",
        "\n",
        "print(f\"first row shape : {x[0].shape}\")\n",
        "print(f\"first column shape {x[:, 0].shape}\")\n",
        "print(f\"second row & first 10 column shape {x[:, 0].shape}\")\n",
        "\n",
        "x.shape"
      ],
      "execution_count": 114,
      "outputs": [
        {
          "output_type": "stream",
          "text": [
            "first row shape : torch.Size([25])\n",
            "first column shape torch.Size([10])\n",
            "second row & first 10 column shape torch.Size([10])\n"
          ],
          "name": "stdout"
        },
        {
          "output_type": "execute_result",
          "data": {
            "text/plain": [
              "torch.Size([10, 25])"
            ]
          },
          "metadata": {},
          "execution_count": 114
        }
      ]
    },
    {
      "cell_type": "code",
      "metadata": {
        "colab": {
          "base_uri": "https://localhost:8080/"
        },
        "id": "F7JKlJqv6R9N",
        "outputId": "6ea29127-656f-42f4-9993-a91567b0488f"
      },
      "source": [
        "## fancy Indexing\n",
        "x = torch.rand((3, 5))\n",
        "\n",
        "rows = torch.tensor([1, 0])\n",
        "cols = torch.tensor([4, 0])\n",
        "\n",
        "print(x[rows, cols])\n",
        "\n",
        "## Advanced Indexing\n",
        "x = torch.arange(10)\n",
        "\n",
        "print(x[(x < 2) | (x>8)])\n",
        "print(x[x.remainder(2) == 0])\n",
        "print(torch.where(x>5, x, x*2)) # Xi if condition else Yi\n",
        "print(x.ndimension())\n",
        "print(torch.tensor([1, 0, 3, 0, 5, 3]).unique())\n",
        "print(x.numel())"
      ],
      "execution_count": 133,
      "outputs": [
        {
          "output_type": "stream",
          "text": [
            "tensor([0.5159, 0.4862])\n",
            "tensor([0, 1, 9])\n",
            "tensor([0, 2, 4, 6, 8])\n",
            "tensor([ 0,  2,  4,  6,  8, 10,  6,  7,  8,  9])\n",
            "1\n",
            "tensor([0, 1, 3, 5])\n",
            "10\n"
          ],
          "name": "stdout"
        }
      ]
    },
    {
      "cell_type": "code",
      "metadata": {
        "colab": {
          "base_uri": "https://localhost:8080/"
        },
        "id": "txc5vqA9_QQo",
        "outputId": "2895cba8-4a57-48b0-eedb-b305f8776dfc"
      },
      "source": [
        "## Tesnor reshape\n",
        "x = torch.arange(9)\n",
        "\n",
        "print(x.view(3, 3))\n",
        "print(x.reshape(3, 3))\n",
        "\n",
        "print(x.reshape(3, 3).t().contiguous().view(9))"
      ],
      "execution_count": 144,
      "outputs": [
        {
          "output_type": "stream",
          "text": [
            "tensor([[0, 1, 2],\n",
            "        [3, 4, 5],\n",
            "        [6, 7, 8]])\n",
            "tensor([[0, 1, 2],\n",
            "        [3, 4, 5],\n",
            "        [6, 7, 8]])\n",
            "tensor([0, 3, 6, 1, 4, 7, 2, 5, 8])\n"
          ],
          "name": "stdout"
        }
      ]
    },
    {
      "cell_type": "code",
      "metadata": {
        "colab": {
          "base_uri": "https://localhost:8080/"
        },
        "id": "PdQtEKRcGUB3",
        "outputId": "91320c39-b255-4d26-de59-5d78b04b6ef4"
      },
      "source": [
        "x1 = torch.rand((2, 5))\n",
        "x2 = torch.rand((2, 5))\n",
        "\n",
        "print(x1)\n",
        "print(x2)\n",
        "\n",
        "print(torch.cat((x1, x2), dim=0))\n",
        "print(torch.cat((x1, x2), dim=1))"
      ],
      "execution_count": 147,
      "outputs": [
        {
          "output_type": "stream",
          "text": [
            "tensor([[0.5677, 0.3140, 0.8823, 0.2427, 0.7123],\n",
            "        [0.2462, 0.9608, 0.8551, 0.5385, 0.4715]])\n",
            "tensor([[0.1025, 0.3296, 0.1893, 0.9629, 0.4924],\n",
            "        [0.4794, 0.7865, 0.4595, 0.4603, 0.6206]])\n",
            "tensor([[0.5677, 0.3140, 0.8823, 0.2427, 0.7123],\n",
            "        [0.2462, 0.9608, 0.8551, 0.5385, 0.4715],\n",
            "        [0.1025, 0.3296, 0.1893, 0.9629, 0.4924],\n",
            "        [0.4794, 0.7865, 0.4595, 0.4603, 0.6206]])\n",
            "tensor([[0.5677, 0.3140, 0.8823, 0.2427, 0.7123, 0.1025, 0.3296, 0.1893, 0.9629,\n",
            "         0.4924],\n",
            "        [0.2462, 0.9608, 0.8551, 0.5385, 0.4715, 0.4794, 0.7865, 0.4595, 0.4603,\n",
            "         0.6206]])\n"
          ],
          "name": "stdout"
        }
      ]
    },
    {
      "cell_type": "code",
      "metadata": {
        "colab": {
          "base_uri": "https://localhost:8080/"
        },
        "id": "jlDPikqhIyx9",
        "outputId": "dea2965a-8fe6-48f5-f3b3-782859da327c"
      },
      "source": [
        "batch = 64\n",
        "\n",
        "x = torch.rand((batch, 2, 5))\n",
        "print(x.shape)\n",
        "z = x.view(batch, -1)\n",
        "print(z.shape)\n",
        "z = x.permute(0, 2, 1) # trnsposing on multi dimensional case\n",
        "print(z.shape)"
      ],
      "execution_count": 152,
      "outputs": [
        {
          "output_type": "stream",
          "text": [
            "torch.Size([64, 2, 5])\n",
            "torch.Size([64, 10])\n",
            "torch.Size([64, 5, 2])\n"
          ],
          "name": "stdout"
        }
      ]
    },
    {
      "cell_type": "code",
      "metadata": {
        "colab": {
          "base_uri": "https://localhost:8080/"
        },
        "id": "JrKlP8beNRjq",
        "outputId": "f76b30d1-529f-4c2e-f48a-956e5e76bc2e"
      },
      "source": [
        "x = torch.arange(10)\n",
        "print(x)\n",
        "print(x.squeeze())\n",
        "print(x.unsqueeze(0))\n",
        "print(x.unsqueeze(1))\n",
        "\n",
        "print(x.unsqueeze(0).unsqueeze(1)) # 1x1x10 matrix"
      ],
      "execution_count": 167,
      "outputs": [
        {
          "output_type": "stream",
          "text": [
            "tensor([0, 1, 2, 3, 4, 5, 6, 7, 8, 9])\n",
            "tensor([0, 1, 2, 3, 4, 5, 6, 7, 8, 9])\n",
            "tensor([[0, 1, 2, 3, 4, 5, 6, 7, 8, 9]])\n",
            "tensor([[0],\n",
            "        [1],\n",
            "        [2],\n",
            "        [3],\n",
            "        [4],\n",
            "        [5],\n",
            "        [6],\n",
            "        [7],\n",
            "        [8],\n",
            "        [9]])\n",
            "tensor([[[0, 1, 2, 3, 4, 5, 6, 7, 8, 9]]])\n"
          ],
          "name": "stdout"
        }
      ]
    },
    {
      "cell_type": "code",
      "metadata": {
        "id": "LSQCLz6bOqc6"
      },
      "source": [
        ""
      ],
      "execution_count": null,
      "outputs": []
    }
  ]
}